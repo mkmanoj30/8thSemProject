{
 "cells": [
  {
   "cell_type": "code",
   "execution_count": 98,
   "metadata": {},
   "outputs": [],
   "source": [
    "# %load (\"bank_1min.RData\")\n",
    "#bank_1min.RData"
   ]
  },
  {
   "cell_type": "code",
   "execution_count": 99,
   "metadata": {},
   "outputs": [
    {
     "name": "stdout",
     "output_type": "stream",
     "text": [
      "Requirement already satisfied: pyreadr in c:\\programdata\\anaconda3\\lib\\site-packages (0.2.3)\n",
      "Requirement already satisfied: pandas in c:\\programdata\\anaconda3\\lib\\site-packages (from pyreadr) (1.0.0)\n",
      "Requirement already satisfied: python-dateutil>=2.6.1 in c:\\programdata\\anaconda3\\lib\\site-packages (from pandas->pyreadr) (2.8.1)\n",
      "Requirement already satisfied: numpy>=1.13.3 in c:\\programdata\\anaconda3\\lib\\site-packages (from pandas->pyreadr) (1.18.1)\n",
      "Requirement already satisfied: pytz>=2017.2 in c:\\programdata\\anaconda3\\lib\\site-packages (from pandas->pyreadr) (2019.3)\n",
      "Requirement already satisfied: six>=1.5 in c:\\programdata\\anaconda3\\lib\\site-packages (from python-dateutil>=2.6.1->pandas->pyreadr) (1.14.0)\n",
      "Note: you may need to restart the kernel to use updated packages.\n"
     ]
    }
   ],
   "source": [
    "pip install pyreadr"
   ]
  },
  {
   "cell_type": "code",
   "execution_count": 1,
   "metadata": {},
   "outputs": [],
   "source": [
    "import pyreadr\n",
    "\n",
    "result = pyreadr.read_r('bank_1min.RData')\n",
    "\n",
    "df = result['bank_1min']\n",
    "    "
   ]
  },
  {
   "cell_type": "code",
   "execution_count": 2,
   "metadata": {},
   "outputs": [
    {
     "name": "stdout",
     "output_type": "stream",
     "text": [
      "<class 'pandas.core.frame.DataFrame'>\n"
     ]
    }
   ],
   "source": [
    "\n",
    "print(type(df))"
   ]
  },
  {
   "cell_type": "code",
   "execution_count": 3,
   "metadata": {},
   "outputs": [],
   "source": [
    "import pandas as pd\n",
    "df.to_csv('bank1min')"
   ]
  },
  {
   "cell_type": "code",
   "execution_count": 4,
   "metadata": {},
   "outputs": [],
   "source": [
    "data = pd.read_csv('bank1min')"
   ]
  },
  {
   "cell_type": "code",
   "execution_count": 5,
   "metadata": {},
   "outputs": [
    {
     "data": {
      "text/html": [
       "<div>\n",
       "<style scoped>\n",
       "    .dataframe tbody tr th:only-of-type {\n",
       "        vertical-align: middle;\n",
       "    }\n",
       "\n",
       "    .dataframe tbody tr th {\n",
       "        vertical-align: top;\n",
       "    }\n",
       "\n",
       "    .dataframe thead th {\n",
       "        text-align: right;\n",
       "    }\n",
       "</style>\n",
       "<table border=\"1\" class=\"dataframe\">\n",
       "  <thead>\n",
       "    <tr style=\"text-align: right;\">\n",
       "      <th></th>\n",
       "      <th>Unnamed: 0</th>\n",
       "      <th>index</th>\n",
       "      <th>date</th>\n",
       "      <th>time</th>\n",
       "      <th>open</th>\n",
       "      <th>high</th>\n",
       "      <th>low</th>\n",
       "      <th>close</th>\n",
       "      <th>id</th>\n",
       "    </tr>\n",
       "  </thead>\n",
       "  <tbody>\n",
       "    <tr>\n",
       "      <th>0</th>\n",
       "      <td>0</td>\n",
       "      <td>BANKNIFTY</td>\n",
       "      <td>20121203</td>\n",
       "      <td>09:16</td>\n",
       "      <td>12125.70</td>\n",
       "      <td>12161.70</td>\n",
       "      <td>12125.70</td>\n",
       "      <td>12160.95</td>\n",
       "      <td>2012DECBNF.txt</td>\n",
       "    </tr>\n",
       "    <tr>\n",
       "      <th>1</th>\n",
       "      <td>1</td>\n",
       "      <td>BANKNIFTY</td>\n",
       "      <td>20121203</td>\n",
       "      <td>09:17</td>\n",
       "      <td>12161.75</td>\n",
       "      <td>12164.80</td>\n",
       "      <td>12130.40</td>\n",
       "      <td>12130.40</td>\n",
       "      <td>2012DECBNF.txt</td>\n",
       "    </tr>\n",
       "    <tr>\n",
       "      <th>2</th>\n",
       "      <td>2</td>\n",
       "      <td>BANKNIFTY</td>\n",
       "      <td>20121203</td>\n",
       "      <td>09:18</td>\n",
       "      <td>12126.85</td>\n",
       "      <td>12156.10</td>\n",
       "      <td>12126.85</td>\n",
       "      <td>12156.10</td>\n",
       "      <td>2012DECBNF.txt</td>\n",
       "    </tr>\n",
       "    <tr>\n",
       "      <th>3</th>\n",
       "      <td>3</td>\n",
       "      <td>BANKNIFTY</td>\n",
       "      <td>20121203</td>\n",
       "      <td>09:19</td>\n",
       "      <td>12157.25</td>\n",
       "      <td>12164.75</td>\n",
       "      <td>12151.60</td>\n",
       "      <td>12164.20</td>\n",
       "      <td>2012DECBNF.txt</td>\n",
       "    </tr>\n",
       "    <tr>\n",
       "      <th>4</th>\n",
       "      <td>4</td>\n",
       "      <td>BANKNIFTY</td>\n",
       "      <td>20121203</td>\n",
       "      <td>09:20</td>\n",
       "      <td>12162.80</td>\n",
       "      <td>12162.80</td>\n",
       "      <td>12148.20</td>\n",
       "      <td>12151.15</td>\n",
       "      <td>2012DECBNF.txt</td>\n",
       "    </tr>\n",
       "    <tr>\n",
       "      <th>...</th>\n",
       "      <td>...</td>\n",
       "      <td>...</td>\n",
       "      <td>...</td>\n",
       "      <td>...</td>\n",
       "      <td>...</td>\n",
       "      <td>...</td>\n",
       "      <td>...</td>\n",
       "      <td>...</td>\n",
       "      <td>...</td>\n",
       "    </tr>\n",
       "    <tr>\n",
       "      <th>367570</th>\n",
       "      <td>367570</td>\n",
       "      <td>BANKNIFTY</td>\n",
       "      <td>20160930</td>\n",
       "      <td>15:26</td>\n",
       "      <td>19321.00</td>\n",
       "      <td>19322.80</td>\n",
       "      <td>19314.25</td>\n",
       "      <td>19318.35</td>\n",
       "      <td>2016SEPBNF.txt</td>\n",
       "    </tr>\n",
       "    <tr>\n",
       "      <th>367571</th>\n",
       "      <td>367571</td>\n",
       "      <td>BANKNIFTY</td>\n",
       "      <td>20160930</td>\n",
       "      <td>15:27</td>\n",
       "      <td>19318.80</td>\n",
       "      <td>19322.20</td>\n",
       "      <td>19312.30</td>\n",
       "      <td>19317.40</td>\n",
       "      <td>2016SEPBNF.txt</td>\n",
       "    </tr>\n",
       "    <tr>\n",
       "      <th>367572</th>\n",
       "      <td>367572</td>\n",
       "      <td>BANKNIFTY</td>\n",
       "      <td>20160930</td>\n",
       "      <td>15:28</td>\n",
       "      <td>19317.55</td>\n",
       "      <td>19323.40</td>\n",
       "      <td>19314.45</td>\n",
       "      <td>19315.95</td>\n",
       "      <td>2016SEPBNF.txt</td>\n",
       "    </tr>\n",
       "    <tr>\n",
       "      <th>367573</th>\n",
       "      <td>367573</td>\n",
       "      <td>BANKNIFTY</td>\n",
       "      <td>20160930</td>\n",
       "      <td>15:29</td>\n",
       "      <td>19315.80</td>\n",
       "      <td>19324.20</td>\n",
       "      <td>19312.00</td>\n",
       "      <td>19314.10</td>\n",
       "      <td>2016SEPBNF.txt</td>\n",
       "    </tr>\n",
       "    <tr>\n",
       "      <th>367574</th>\n",
       "      <td>367574</td>\n",
       "      <td>BANKNIFTY</td>\n",
       "      <td>20160930</td>\n",
       "      <td>15:30</td>\n",
       "      <td>19313.60</td>\n",
       "      <td>19330.85</td>\n",
       "      <td>19311.20</td>\n",
       "      <td>19323.20</td>\n",
       "      <td>2016SEPBNF.txt</td>\n",
       "    </tr>\n",
       "  </tbody>\n",
       "</table>\n",
       "<p>367575 rows × 9 columns</p>\n",
       "</div>"
      ],
      "text/plain": [
       "        Unnamed: 0      index      date   time      open      high       low  \\\n",
       "0                0  BANKNIFTY  20121203  09:16  12125.70  12161.70  12125.70   \n",
       "1                1  BANKNIFTY  20121203  09:17  12161.75  12164.80  12130.40   \n",
       "2                2  BANKNIFTY  20121203  09:18  12126.85  12156.10  12126.85   \n",
       "3                3  BANKNIFTY  20121203  09:19  12157.25  12164.75  12151.60   \n",
       "4                4  BANKNIFTY  20121203  09:20  12162.80  12162.80  12148.20   \n",
       "...            ...        ...       ...    ...       ...       ...       ...   \n",
       "367570      367570  BANKNIFTY  20160930  15:26  19321.00  19322.80  19314.25   \n",
       "367571      367571  BANKNIFTY  20160930  15:27  19318.80  19322.20  19312.30   \n",
       "367572      367572  BANKNIFTY  20160930  15:28  19317.55  19323.40  19314.45   \n",
       "367573      367573  BANKNIFTY  20160930  15:29  19315.80  19324.20  19312.00   \n",
       "367574      367574  BANKNIFTY  20160930  15:30  19313.60  19330.85  19311.20   \n",
       "\n",
       "           close              id  \n",
       "0       12160.95  2012DECBNF.txt  \n",
       "1       12130.40  2012DECBNF.txt  \n",
       "2       12156.10  2012DECBNF.txt  \n",
       "3       12164.20  2012DECBNF.txt  \n",
       "4       12151.15  2012DECBNF.txt  \n",
       "...          ...             ...  \n",
       "367570  19318.35  2016SEPBNF.txt  \n",
       "367571  19317.40  2016SEPBNF.txt  \n",
       "367572  19315.95  2016SEPBNF.txt  \n",
       "367573  19314.10  2016SEPBNF.txt  \n",
       "367574  19323.20  2016SEPBNF.txt  \n",
       "\n",
       "[367575 rows x 9 columns]"
      ]
     },
     "execution_count": 5,
     "metadata": {},
     "output_type": "execute_result"
    }
   ],
   "source": [
    "data"
   ]
  },
  {
   "cell_type": "code",
   "execution_count": 6,
   "metadata": {},
   "outputs": [],
   "source": [
    "time9 = df[df['time']=='09:16']\n",
    "time10 = df[df['time']=='10:00']\n",
    "time11 = df[df['time']=='11:00']\n",
    "time12 = df[df['time']=='12:00']\n",
    "time13= df[df['time']=='13:00']\n",
    "time14 = df[df['time']=='14:00']\n",
    "time15 = df[df['time']=='15:00']\n",
    "time1530 = df[df['time']=='15:30']\n"
   ]
  },
  {
   "cell_type": "code",
   "execution_count": 7,
   "metadata": {},
   "outputs": [],
   "source": [
    "time9=time9.append(time10)\n",
    "time9=time9.append(time11)\n",
    "time9=time9.append(time12)\n",
    "time9=time9.append(time13)\n",
    "time9=time9.append(time14)\n",
    "time9=time9.append(time15)\n",
    "time9=time9.append(time1530)"
   ]
  },
  {
   "cell_type": "code",
   "execution_count": 8,
   "metadata": {},
   "outputs": [],
   "source": [
    "bank1hour = time9.sort_index()"
   ]
  },
  {
   "cell_type": "code",
   "execution_count": 9,
   "metadata": {},
   "outputs": [],
   "source": [
    "bank1hour.to_csv('bank1hour.csv')"
   ]
  },
  {
   "cell_type": "code",
   "execution_count": 10,
   "metadata": {},
   "outputs": [
    {
     "data": {
      "text/html": [
       "<div>\n",
       "<style scoped>\n",
       "    .dataframe tbody tr th:only-of-type {\n",
       "        vertical-align: middle;\n",
       "    }\n",
       "\n",
       "    .dataframe tbody tr th {\n",
       "        vertical-align: top;\n",
       "    }\n",
       "\n",
       "    .dataframe thead th {\n",
       "        text-align: right;\n",
       "    }\n",
       "</style>\n",
       "<table border=\"1\" class=\"dataframe\">\n",
       "  <thead>\n",
       "    <tr style=\"text-align: right;\">\n",
       "      <th></th>\n",
       "      <th>index</th>\n",
       "      <th>date</th>\n",
       "      <th>time</th>\n",
       "      <th>open</th>\n",
       "      <th>high</th>\n",
       "      <th>low</th>\n",
       "      <th>close</th>\n",
       "      <th>id</th>\n",
       "    </tr>\n",
       "  </thead>\n",
       "  <tbody>\n",
       "    <tr>\n",
       "      <th>0</th>\n",
       "      <td>BANKNIFTY</td>\n",
       "      <td>20121203</td>\n",
       "      <td>09:16</td>\n",
       "      <td>12125.70</td>\n",
       "      <td>12161.70</td>\n",
       "      <td>12125.70</td>\n",
       "      <td>12160.95</td>\n",
       "      <td>2012DECBNF.txt</td>\n",
       "    </tr>\n",
       "    <tr>\n",
       "      <th>44</th>\n",
       "      <td>BANKNIFTY</td>\n",
       "      <td>20121203</td>\n",
       "      <td>10:00</td>\n",
       "      <td>12117.15</td>\n",
       "      <td>12121.75</td>\n",
       "      <td>12109.10</td>\n",
       "      <td>12109.10</td>\n",
       "      <td>2012DECBNF.txt</td>\n",
       "    </tr>\n",
       "    <tr>\n",
       "      <th>104</th>\n",
       "      <td>BANKNIFTY</td>\n",
       "      <td>20121203</td>\n",
       "      <td>11:00</td>\n",
       "      <td>12091.65</td>\n",
       "      <td>12093.55</td>\n",
       "      <td>12090.05</td>\n",
       "      <td>12091.35</td>\n",
       "      <td>2012DECBNF.txt</td>\n",
       "    </tr>\n",
       "    <tr>\n",
       "      <th>164</th>\n",
       "      <td>BANKNIFTY</td>\n",
       "      <td>20121203</td>\n",
       "      <td>12:00</td>\n",
       "      <td>12095.30</td>\n",
       "      <td>12099.20</td>\n",
       "      <td>12095.30</td>\n",
       "      <td>12098.90</td>\n",
       "      <td>2012DECBNF.txt</td>\n",
       "    </tr>\n",
       "    <tr>\n",
       "      <th>224</th>\n",
       "      <td>BANKNIFTY</td>\n",
       "      <td>20121203</td>\n",
       "      <td>13:00</td>\n",
       "      <td>12100.40</td>\n",
       "      <td>12104.90</td>\n",
       "      <td>12100.40</td>\n",
       "      <td>12102.80</td>\n",
       "      <td>2012DECBNF.txt</td>\n",
       "    </tr>\n",
       "  </tbody>\n",
       "</table>\n",
       "</div>"
      ],
      "text/plain": [
       "         index      date   time      open      high       low     close  \\\n",
       "0    BANKNIFTY  20121203  09:16  12125.70  12161.70  12125.70  12160.95   \n",
       "44   BANKNIFTY  20121203  10:00  12117.15  12121.75  12109.10  12109.10   \n",
       "104  BANKNIFTY  20121203  11:00  12091.65  12093.55  12090.05  12091.35   \n",
       "164  BANKNIFTY  20121203  12:00  12095.30  12099.20  12095.30  12098.90   \n",
       "224  BANKNIFTY  20121203  13:00  12100.40  12104.90  12100.40  12102.80   \n",
       "\n",
       "                 id  \n",
       "0    2012DECBNF.txt  \n",
       "44   2012DECBNF.txt  \n",
       "104  2012DECBNF.txt  \n",
       "164  2012DECBNF.txt  \n",
       "224  2012DECBNF.txt  "
      ]
     },
     "execution_count": 10,
     "metadata": {},
     "output_type": "execute_result"
    }
   ],
   "source": [
    "bank1hour.head()"
   ]
  },
  {
   "cell_type": "code",
   "execution_count": 11,
   "metadata": {},
   "outputs": [
    {
     "data": {
      "text/html": [
       "<div>\n",
       "<style scoped>\n",
       "    .dataframe tbody tr th:only-of-type {\n",
       "        vertical-align: middle;\n",
       "    }\n",
       "\n",
       "    .dataframe tbody tr th {\n",
       "        vertical-align: top;\n",
       "    }\n",
       "\n",
       "    .dataframe thead th {\n",
       "        text-align: right;\n",
       "    }\n",
       "</style>\n",
       "<table border=\"1\" class=\"dataframe\">\n",
       "  <thead>\n",
       "    <tr style=\"text-align: right;\">\n",
       "      <th></th>\n",
       "      <th>index</th>\n",
       "      <th>date</th>\n",
       "      <th>time</th>\n",
       "      <th>open</th>\n",
       "      <th>high</th>\n",
       "      <th>low</th>\n",
       "      <th>close</th>\n",
       "      <th>id</th>\n",
       "    </tr>\n",
       "  </thead>\n",
       "  <tbody>\n",
       "    <tr>\n",
       "      <th>367364</th>\n",
       "      <td>BANKNIFTY</td>\n",
       "      <td>20160930</td>\n",
       "      <td>12:00</td>\n",
       "      <td>19196.85</td>\n",
       "      <td>19199.40</td>\n",
       "      <td>19190.5</td>\n",
       "      <td>19191.95</td>\n",
       "      <td>2016SEPBNF.txt</td>\n",
       "    </tr>\n",
       "    <tr>\n",
       "      <th>367424</th>\n",
       "      <td>BANKNIFTY</td>\n",
       "      <td>20160930</td>\n",
       "      <td>13:00</td>\n",
       "      <td>19199.90</td>\n",
       "      <td>19212.90</td>\n",
       "      <td>19196.1</td>\n",
       "      <td>19201.70</td>\n",
       "      <td>2016SEPBNF.txt</td>\n",
       "    </tr>\n",
       "    <tr>\n",
       "      <th>367484</th>\n",
       "      <td>BANKNIFTY</td>\n",
       "      <td>20160930</td>\n",
       "      <td>14:00</td>\n",
       "      <td>19258.35</td>\n",
       "      <td>19259.10</td>\n",
       "      <td>19246.3</td>\n",
       "      <td>19247.15</td>\n",
       "      <td>2016SEPBNF.txt</td>\n",
       "    </tr>\n",
       "    <tr>\n",
       "      <th>367544</th>\n",
       "      <td>BANKNIFTY</td>\n",
       "      <td>20160930</td>\n",
       "      <td>15:00</td>\n",
       "      <td>19248.80</td>\n",
       "      <td>19267.20</td>\n",
       "      <td>19244.1</td>\n",
       "      <td>19259.40</td>\n",
       "      <td>2016SEPBNF.txt</td>\n",
       "    </tr>\n",
       "    <tr>\n",
       "      <th>367574</th>\n",
       "      <td>BANKNIFTY</td>\n",
       "      <td>20160930</td>\n",
       "      <td>15:30</td>\n",
       "      <td>19313.60</td>\n",
       "      <td>19330.85</td>\n",
       "      <td>19311.2</td>\n",
       "      <td>19323.20</td>\n",
       "      <td>2016SEPBNF.txt</td>\n",
       "    </tr>\n",
       "  </tbody>\n",
       "</table>\n",
       "</div>"
      ],
      "text/plain": [
       "            index      date   time      open      high      low     close  \\\n",
       "367364  BANKNIFTY  20160930  12:00  19196.85  19199.40  19190.5  19191.95   \n",
       "367424  BANKNIFTY  20160930  13:00  19199.90  19212.90  19196.1  19201.70   \n",
       "367484  BANKNIFTY  20160930  14:00  19258.35  19259.10  19246.3  19247.15   \n",
       "367544  BANKNIFTY  20160930  15:00  19248.80  19267.20  19244.1  19259.40   \n",
       "367574  BANKNIFTY  20160930  15:30  19313.60  19330.85  19311.2  19323.20   \n",
       "\n",
       "                    id  \n",
       "367364  2016SEPBNF.txt  \n",
       "367424  2016SEPBNF.txt  \n",
       "367484  2016SEPBNF.txt  \n",
       "367544  2016SEPBNF.txt  \n",
       "367574  2016SEPBNF.txt  "
      ]
     },
     "execution_count": 11,
     "metadata": {},
     "output_type": "execute_result"
    }
   ],
   "source": [
    "bank1hour.tail()"
   ]
  },
  {
   "cell_type": "code",
   "execution_count": 12,
   "metadata": {},
   "outputs": [
    {
     "data": {
      "text/plain": [
       "collections.OrderedDict"
      ]
     },
     "execution_count": 12,
     "metadata": {},
     "output_type": "execute_result"
    }
   ],
   "source": [
    "result = pyreadr.read_r('data/companyList.RData')\n",
    "\n",
    "#clist = result['company_list']\n",
    "type(result)"
   ]
  },
  {
   "cell_type": "code",
   "execution_count": 13,
   "metadata": {},
   "outputs": [
    {
     "data": {
      "text/html": [
       "<div>\n",
       "<style scoped>\n",
       "    .dataframe tbody tr th:only-of-type {\n",
       "        vertical-align: middle;\n",
       "    }\n",
       "\n",
       "    .dataframe tbody tr th {\n",
       "        vertical-align: top;\n",
       "    }\n",
       "\n",
       "    .dataframe thead th {\n",
       "        text-align: right;\n",
       "    }\n",
       "</style>\n",
       "<table border=\"1\" class=\"dataframe\">\n",
       "  <thead>\n",
       "    <tr style=\"text-align: right;\">\n",
       "      <th></th>\n",
       "      <th>company</th>\n",
       "      <th>id</th>\n",
       "      <th>data</th>\n",
       "    </tr>\n",
       "  </thead>\n",
       "  <tbody>\n",
       "    <tr>\n",
       "      <th>0</th>\n",
       "      <td>3i Infotech</td>\n",
       "      <td>3IINFOTECH</td>\n",
       "      <td>nse_AA</td>\n",
       "    </tr>\n",
       "    <tr>\n",
       "      <th>1</th>\n",
       "      <td>8K Miles Software Services</td>\n",
       "      <td>8KMILES</td>\n",
       "      <td>nse_AA</td>\n",
       "    </tr>\n",
       "    <tr>\n",
       "      <th>2</th>\n",
       "      <td>Aban Offshore Limited</td>\n",
       "      <td>ABAN</td>\n",
       "      <td>nse_AA</td>\n",
       "    </tr>\n",
       "    <tr>\n",
       "      <th>3</th>\n",
       "      <td>Aban Offshore Limited</td>\n",
       "      <td>ABAN</td>\n",
       "      <td>nse_AA</td>\n",
       "    </tr>\n",
       "    <tr>\n",
       "      <th>4</th>\n",
       "      <td>A B B Limited</td>\n",
       "      <td>ABB</td>\n",
       "      <td>nse_AA</td>\n",
       "    </tr>\n",
       "    <tr>\n",
       "      <th>5</th>\n",
       "      <td>Abbott India Limited</td>\n",
       "      <td>ABBOTINDIA</td>\n",
       "      <td>nse_AA</td>\n",
       "    </tr>\n",
       "    <tr>\n",
       "      <th>6</th>\n",
       "      <td>Aditya Birla Nuvo Limited</td>\n",
       "      <td>ABIRLANUVO</td>\n",
       "      <td>nse_AA</td>\n",
       "    </tr>\n",
       "    <tr>\n",
       "      <th>7</th>\n",
       "      <td>ACC Limited</td>\n",
       "      <td>ACC</td>\n",
       "      <td>nse_AA</td>\n",
       "    </tr>\n",
       "    <tr>\n",
       "      <th>8</th>\n",
       "      <td>Adani Enterprises Limited</td>\n",
       "      <td>ADANIENT</td>\n",
       "      <td>nse_AA</td>\n",
       "    </tr>\n",
       "    <tr>\n",
       "      <th>9</th>\n",
       "      <td>Adani Ports and Special Economic Zone</td>\n",
       "      <td>ADANIPORTS</td>\n",
       "      <td>nse_AA</td>\n",
       "    </tr>\n",
       "    <tr>\n",
       "      <th>10</th>\n",
       "      <td>Adani Power Limited</td>\n",
       "      <td>ADANIPOWER</td>\n",
       "      <td>nse_AA</td>\n",
       "    </tr>\n",
       "    <tr>\n",
       "      <th>11</th>\n",
       "      <td>Ahluwalia Contracts Limited</td>\n",
       "      <td>India</td>\n",
       "      <td>nse_II</td>\n",
       "    </tr>\n",
       "    <tr>\n",
       "      <th>12</th>\n",
       "      <td>Ahmednagar Forgings Limited</td>\n",
       "      <td>AHMEDFORGE</td>\n",
       "      <td>nse_AA</td>\n",
       "    </tr>\n",
       "    <tr>\n",
       "      <th>13</th>\n",
       "      <td>A I A Engineering Limited</td>\n",
       "      <td>AIAENG</td>\n",
       "      <td>nse_AA</td>\n",
       "    </tr>\n",
       "    <tr>\n",
       "      <th>14</th>\n",
       "      <td>ALSTOM India</td>\n",
       "      <td>AIL</td>\n",
       "      <td>nse_AA</td>\n",
       "    </tr>\n",
       "    <tr>\n",
       "      <th>15</th>\n",
       "      <td>Ajanta Pharma Limited</td>\n",
       "      <td>AJANTPHARM</td>\n",
       "      <td>nse_AA</td>\n",
       "    </tr>\n",
       "    <tr>\n",
       "      <th>16</th>\n",
       "      <td>Akzo Nobel India</td>\n",
       "      <td>AKZOINDIA</td>\n",
       "      <td>nse_AA</td>\n",
       "    </tr>\n",
       "    <tr>\n",
       "      <th>17</th>\n",
       "      <td>Allahabad Bank</td>\n",
       "      <td>ALBK</td>\n",
       "      <td>nse_AA</td>\n",
       "    </tr>\n",
       "    <tr>\n",
       "      <th>18</th>\n",
       "      <td>Alembic Limited</td>\n",
       "      <td>ALEMBICLTD</td>\n",
       "      <td>nse_AA</td>\n",
       "    </tr>\n",
       "    <tr>\n",
       "      <th>19</th>\n",
       "      <td>Allcargo Global Logistics Limited</td>\n",
       "      <td>ALLCARGO</td>\n",
       "      <td>nse_AA</td>\n",
       "    </tr>\n",
       "  </tbody>\n",
       "</table>\n",
       "</div>"
      ],
      "text/plain": [
       "                                  company          id    data\n",
       "0                             3i Infotech  3IINFOTECH  nse_AA\n",
       "1              8K Miles Software Services     8KMILES  nse_AA\n",
       "2                   Aban Offshore Limited        ABAN  nse_AA\n",
       "3                   Aban Offshore Limited        ABAN  nse_AA\n",
       "4                           A B B Limited         ABB  nse_AA\n",
       "5                    Abbott India Limited  ABBOTINDIA  nse_AA\n",
       "6               Aditya Birla Nuvo Limited  ABIRLANUVO  nse_AA\n",
       "7                             ACC Limited         ACC  nse_AA\n",
       "8               Adani Enterprises Limited    ADANIENT  nse_AA\n",
       "9   Adani Ports and Special Economic Zone  ADANIPORTS  nse_AA\n",
       "10                    Adani Power Limited  ADANIPOWER  nse_AA\n",
       "11            Ahluwalia Contracts Limited       India  nse_II\n",
       "12            Ahmednagar Forgings Limited  AHMEDFORGE  nse_AA\n",
       "13              A I A Engineering Limited      AIAENG  nse_AA\n",
       "14                           ALSTOM India         AIL  nse_AA\n",
       "15                  Ajanta Pharma Limited  AJANTPHARM  nse_AA\n",
       "16                       Akzo Nobel India   AKZOINDIA  nse_AA\n",
       "17                         Allahabad Bank        ALBK  nse_AA\n",
       "18                        Alembic Limited  ALEMBICLTD  nse_AA\n",
       "19      Allcargo Global Logistics Limited    ALLCARGO  nse_AA"
      ]
     },
     "execution_count": 13,
     "metadata": {},
     "output_type": "execute_result"
    }
   ],
   "source": [
    "cmp_list = result['companyList']\n",
    "cmp_list.head(20)"
   ]
  },
  {
   "cell_type": "code",
   "execution_count": 14,
   "metadata": {},
   "outputs": [
    {
     "data": {
      "text/html": [
       "<div>\n",
       "<style scoped>\n",
       "    .dataframe tbody tr th:only-of-type {\n",
       "        vertical-align: middle;\n",
       "    }\n",
       "\n",
       "    .dataframe tbody tr th {\n",
       "        vertical-align: top;\n",
       "    }\n",
       "\n",
       "    .dataframe thead th {\n",
       "        text-align: right;\n",
       "    }\n",
       "</style>\n",
       "<table border=\"1\" class=\"dataframe\">\n",
       "  <thead>\n",
       "    <tr style=\"text-align: right;\">\n",
       "      <th></th>\n",
       "      <th>id</th>\n",
       "      <th>date</th>\n",
       "      <th>time</th>\n",
       "      <th>open</th>\n",
       "      <th>high</th>\n",
       "      <th>low</th>\n",
       "      <th>close</th>\n",
       "      <th>volume</th>\n",
       "    </tr>\n",
       "  </thead>\n",
       "  <tbody>\n",
       "    <tr>\n",
       "      <th>0</th>\n",
       "      <td>3IINFOTECH</td>\n",
       "      <td>20150703</td>\n",
       "      <td>09:16:00</td>\n",
       "      <td>4.55</td>\n",
       "      <td>4.55</td>\n",
       "      <td>4.55</td>\n",
       "      <td>4.55</td>\n",
       "      <td>835</td>\n",
       "    </tr>\n",
       "    <tr>\n",
       "      <th>1</th>\n",
       "      <td>3IINFOTECH</td>\n",
       "      <td>20150703</td>\n",
       "      <td>09:17:00</td>\n",
       "      <td>4.55</td>\n",
       "      <td>4.55</td>\n",
       "      <td>4.55</td>\n",
       "      <td>4.55</td>\n",
       "      <td>390</td>\n",
       "    </tr>\n",
       "    <tr>\n",
       "      <th>2</th>\n",
       "      <td>3IINFOTECH</td>\n",
       "      <td>20150703</td>\n",
       "      <td>09:18:00</td>\n",
       "      <td>4.55</td>\n",
       "      <td>4.55</td>\n",
       "      <td>4.55</td>\n",
       "      <td>4.55</td>\n",
       "      <td>1000</td>\n",
       "    </tr>\n",
       "    <tr>\n",
       "      <th>3</th>\n",
       "      <td>3IINFOTECH</td>\n",
       "      <td>20150703</td>\n",
       "      <td>09:19:00</td>\n",
       "      <td>4.55</td>\n",
       "      <td>4.55</td>\n",
       "      <td>4.55</td>\n",
       "      <td>4.55</td>\n",
       "      <td>1150</td>\n",
       "    </tr>\n",
       "    <tr>\n",
       "      <th>4</th>\n",
       "      <td>3IINFOTECH</td>\n",
       "      <td>20150703</td>\n",
       "      <td>09:20:00</td>\n",
       "      <td>4.55</td>\n",
       "      <td>4.55</td>\n",
       "      <td>4.55</td>\n",
       "      <td>4.55</td>\n",
       "      <td>1100</td>\n",
       "    </tr>\n",
       "  </tbody>\n",
       "</table>\n",
       "</div>"
      ],
      "text/plain": [
       "           id      date      time  open  high   low  close volume\n",
       "0  3IINFOTECH  20150703  09:16:00  4.55  4.55  4.55   4.55    835\n",
       "1  3IINFOTECH  20150703  09:17:00  4.55  4.55  4.55   4.55    390\n",
       "2  3IINFOTECH  20150703  09:18:00  4.55  4.55  4.55   4.55   1000\n",
       "3  3IINFOTECH  20150703  09:19:00  4.55  4.55  4.55   4.55   1150\n",
       "4  3IINFOTECH  20150703  09:20:00  4.55  4.55  4.55   4.55   1100"
      ]
     },
     "execution_count": 14,
     "metadata": {},
     "output_type": "execute_result"
    }
   ],
   "source": [
    "file = pyreadr.read_r('data/nse_AA.RData')\n",
    "nseAA = file['nse_AA']\n",
    "nseAA.head()"
   ]
  },
  {
   "cell_type": "code",
   "execution_count": 15,
   "metadata": {},
   "outputs": [
    {
     "data": {
      "text/html": [
       "<div>\n",
       "<style scoped>\n",
       "    .dataframe tbody tr th:only-of-type {\n",
       "        vertical-align: middle;\n",
       "    }\n",
       "\n",
       "    .dataframe tbody tr th {\n",
       "        vertical-align: top;\n",
       "    }\n",
       "\n",
       "    .dataframe thead th {\n",
       "        text-align: right;\n",
       "    }\n",
       "</style>\n",
       "<table border=\"1\" class=\"dataframe\">\n",
       "  <thead>\n",
       "    <tr style=\"text-align: right;\">\n",
       "      <th></th>\n",
       "      <th>id</th>\n",
       "      <th>date</th>\n",
       "      <th>time</th>\n",
       "      <th>open</th>\n",
       "      <th>high</th>\n",
       "      <th>low</th>\n",
       "      <th>close</th>\n",
       "      <th>volume</th>\n",
       "    </tr>\n",
       "  </thead>\n",
       "  <tbody>\n",
       "    <tr>\n",
       "      <th>224772</th>\n",
       "      <td>ABB</td>\n",
       "      <td>20150703</td>\n",
       "      <td>09:16:00</td>\n",
       "      <td>1365.3</td>\n",
       "      <td>1370.95</td>\n",
       "      <td>1365.30</td>\n",
       "      <td>1369.55</td>\n",
       "      <td>82</td>\n",
       "    </tr>\n",
       "    <tr>\n",
       "      <th>224773</th>\n",
       "      <td>ABB</td>\n",
       "      <td>20150703</td>\n",
       "      <td>09:17:00</td>\n",
       "      <td>1371.0</td>\n",
       "      <td>1378.00</td>\n",
       "      <td>1370.80</td>\n",
       "      <td>1378.00</td>\n",
       "      <td>827</td>\n",
       "    </tr>\n",
       "    <tr>\n",
       "      <th>224774</th>\n",
       "      <td>ABB</td>\n",
       "      <td>20150703</td>\n",
       "      <td>09:18:00</td>\n",
       "      <td>1378.0</td>\n",
       "      <td>1378.00</td>\n",
       "      <td>1375.00</td>\n",
       "      <td>1376.00</td>\n",
       "      <td>425</td>\n",
       "    </tr>\n",
       "    <tr>\n",
       "      <th>224775</th>\n",
       "      <td>ABB</td>\n",
       "      <td>20150703</td>\n",
       "      <td>09:19:00</td>\n",
       "      <td>1377.9</td>\n",
       "      <td>1378.00</td>\n",
       "      <td>1375.00</td>\n",
       "      <td>1375.05</td>\n",
       "      <td>398</td>\n",
       "    </tr>\n",
       "    <tr>\n",
       "      <th>224776</th>\n",
       "      <td>ABB</td>\n",
       "      <td>20150703</td>\n",
       "      <td>09:20:00</td>\n",
       "      <td>1375.0</td>\n",
       "      <td>1377.70</td>\n",
       "      <td>1367.45</td>\n",
       "      <td>1368.00</td>\n",
       "      <td>279</td>\n",
       "    </tr>\n",
       "  </tbody>\n",
       "</table>\n",
       "</div>"
      ],
      "text/plain": [
       "         id      date      time    open     high      low    close volume\n",
       "224772  ABB  20150703  09:16:00  1365.3  1370.95  1365.30  1369.55     82\n",
       "224773  ABB  20150703  09:17:00  1371.0  1378.00  1370.80  1378.00    827\n",
       "224774  ABB  20150703  09:18:00  1378.0  1378.00  1375.00  1376.00    425\n",
       "224775  ABB  20150703  09:19:00  1377.9  1378.00  1375.00  1375.05    398\n",
       "224776  ABB  20150703  09:20:00  1375.0  1377.70  1367.45  1368.00    279"
      ]
     },
     "execution_count": 15,
     "metadata": {},
     "output_type": "execute_result"
    }
   ],
   "source": [
    "ABB = nseAA.loc[nseAA['id']=='ABB']\n",
    "ABB.head()"
   ]
  },
  {
   "cell_type": "code",
   "execution_count": 16,
   "metadata": {},
   "outputs": [
    {
     "data": {
      "text/html": [
       "<div>\n",
       "<style scoped>\n",
       "    .dataframe tbody tr th:only-of-type {\n",
       "        vertical-align: middle;\n",
       "    }\n",
       "\n",
       "    .dataframe tbody tr th {\n",
       "        vertical-align: top;\n",
       "    }\n",
       "\n",
       "    .dataframe thead th {\n",
       "        text-align: right;\n",
       "    }\n",
       "</style>\n",
       "<table border=\"1\" class=\"dataframe\">\n",
       "  <thead>\n",
       "    <tr style=\"text-align: right;\">\n",
       "      <th></th>\n",
       "      <th>id</th>\n",
       "      <th>date</th>\n",
       "      <th>time</th>\n",
       "      <th>open</th>\n",
       "      <th>high</th>\n",
       "      <th>low</th>\n",
       "      <th>close</th>\n",
       "      <th>volume</th>\n",
       "    </tr>\n",
       "  </thead>\n",
       "  <tbody>\n",
       "    <tr>\n",
       "      <th>1003140</th>\n",
       "      <td>ALBK</td>\n",
       "      <td>20150703</td>\n",
       "      <td>09:16:00</td>\n",
       "      <td>88.00</td>\n",
       "      <td>88.3</td>\n",
       "      <td>87.65</td>\n",
       "      <td>88.20</td>\n",
       "      <td>7897</td>\n",
       "    </tr>\n",
       "    <tr>\n",
       "      <th>1003141</th>\n",
       "      <td>ALBK</td>\n",
       "      <td>20150703</td>\n",
       "      <td>09:17:00</td>\n",
       "      <td>88.20</td>\n",
       "      <td>88.2</td>\n",
       "      <td>88.00</td>\n",
       "      <td>88.10</td>\n",
       "      <td>6091</td>\n",
       "    </tr>\n",
       "    <tr>\n",
       "      <th>1003142</th>\n",
       "      <td>ALBK</td>\n",
       "      <td>20150703</td>\n",
       "      <td>09:18:00</td>\n",
       "      <td>88.05</td>\n",
       "      <td>88.3</td>\n",
       "      <td>88.05</td>\n",
       "      <td>88.20</td>\n",
       "      <td>3557</td>\n",
       "    </tr>\n",
       "    <tr>\n",
       "      <th>1003143</th>\n",
       "      <td>ALBK</td>\n",
       "      <td>20150703</td>\n",
       "      <td>09:19:00</td>\n",
       "      <td>88.20</td>\n",
       "      <td>88.4</td>\n",
       "      <td>88.20</td>\n",
       "      <td>88.25</td>\n",
       "      <td>8932</td>\n",
       "    </tr>\n",
       "    <tr>\n",
       "      <th>1003144</th>\n",
       "      <td>ALBK</td>\n",
       "      <td>20150703</td>\n",
       "      <td>09:20:00</td>\n",
       "      <td>88.25</td>\n",
       "      <td>88.3</td>\n",
       "      <td>88.10</td>\n",
       "      <td>88.25</td>\n",
       "      <td>13613</td>\n",
       "    </tr>\n",
       "  </tbody>\n",
       "</table>\n",
       "</div>"
      ],
      "text/plain": [
       "           id      date      time   open  high    low  close volume\n",
       "1003140  ALBK  20150703  09:16:00  88.00  88.3  87.65  88.20   7897\n",
       "1003141  ALBK  20150703  09:17:00  88.20  88.2  88.00  88.10   6091\n",
       "1003142  ALBK  20150703  09:18:00  88.05  88.3  88.05  88.20   3557\n",
       "1003143  ALBK  20150703  09:19:00  88.20  88.4  88.20  88.25   8932\n",
       "1003144  ALBK  20150703  09:20:00  88.25  88.3  88.10  88.25  13613"
      ]
     },
     "execution_count": 16,
     "metadata": {},
     "output_type": "execute_result"
    }
   ],
   "source": [
    "ALBK = nseAA.loc[nseAA['id']=='ALBK']\n",
    "ALBK.head()"
   ]
  },
  {
   "cell_type": "markdown",
   "metadata": {},
   "source": [
    "The follwing steps are followed for 'ABB' symbol\n",
    "1. Converting 'date' col to YYYY-MM-DD as n 'NewDate'\n",
    "2. Dropping 'date'\n",
    "3. Splitting 'NewDate' into 'Day','Month','Year'\n",
    "4. Dropping 'NewDate'\n",
    "5. Splitting 'time' into 'hours','min',seconds'\n",
    "6. Dropping 'time'"
   ]
  },
  {
   "cell_type": "code",
   "execution_count": 17,
   "metadata": {},
   "outputs": [
    {
     "name": "stdout",
     "output_type": "stream",
     "text": [
      "<class 'pandas.core.frame.DataFrame'>\n",
      "Int64Index: 67711 entries, 224772 to 292482\n",
      "Data columns (total 8 columns):\n",
      " #   Column  Non-Null Count  Dtype   \n",
      "---  ------  --------------  -----   \n",
      " 0   id      67711 non-null  category\n",
      " 1   date    67711 non-null  object  \n",
      " 2   time    67711 non-null  category\n",
      " 3   open    67711 non-null  float64 \n",
      " 4   high    67711 non-null  float64 \n",
      " 5   low     67711 non-null  float64 \n",
      " 6   close   67711 non-null  float64 \n",
      " 7   volume  67711 non-null  object  \n",
      "dtypes: category(2), float64(4), object(2)\n",
      "memory usage: 3.8+ MB\n"
     ]
    }
   ],
   "source": [
    "ABB.info()"
   ]
  },
  {
   "cell_type": "code",
   "execution_count": 18,
   "metadata": {},
   "outputs": [
    {
     "name": "stderr",
     "output_type": "stream",
     "text": [
      "C:\\ProgramData\\Anaconda3\\lib\\site-packages\\ipykernel_launcher.py:1: SettingWithCopyWarning: \n",
      "A value is trying to be set on a copy of a slice from a DataFrame.\n",
      "Try using .loc[row_indexer,col_indexer] = value instead\n",
      "\n",
      "See the caveats in the documentation: https://pandas.pydata.org/pandas-docs/stable/user_guide/indexing.html#returning-a-view-versus-a-copy\n",
      "  \"\"\"Entry point for launching an IPython kernel.\n"
     ]
    }
   ],
   "source": [
    "ABB['NewDate'] =  pd.to_datetime(ABB['date'].astype(str),format='%Y%m%d')"
   ]
  },
  {
   "cell_type": "code",
   "execution_count": 19,
   "metadata": {},
   "outputs": [],
   "source": [
    "ABB= ABB.drop('date',axis=1)"
   ]
  },
  {
   "cell_type": "code",
   "execution_count": 20,
   "metadata": {},
   "outputs": [
    {
     "data": {
      "text/html": [
       "<div>\n",
       "<style scoped>\n",
       "    .dataframe tbody tr th:only-of-type {\n",
       "        vertical-align: middle;\n",
       "    }\n",
       "\n",
       "    .dataframe tbody tr th {\n",
       "        vertical-align: top;\n",
       "    }\n",
       "\n",
       "    .dataframe thead th {\n",
       "        text-align: right;\n",
       "    }\n",
       "</style>\n",
       "<table border=\"1\" class=\"dataframe\">\n",
       "  <thead>\n",
       "    <tr style=\"text-align: right;\">\n",
       "      <th></th>\n",
       "      <th>id</th>\n",
       "      <th>time</th>\n",
       "      <th>open</th>\n",
       "      <th>high</th>\n",
       "      <th>low</th>\n",
       "      <th>close</th>\n",
       "      <th>volume</th>\n",
       "      <th>NewDate</th>\n",
       "    </tr>\n",
       "  </thead>\n",
       "  <tbody>\n",
       "    <tr>\n",
       "      <th>224772</th>\n",
       "      <td>ABB</td>\n",
       "      <td>09:16:00</td>\n",
       "      <td>1365.3</td>\n",
       "      <td>1370.95</td>\n",
       "      <td>1365.30</td>\n",
       "      <td>1369.55</td>\n",
       "      <td>82</td>\n",
       "      <td>2015-07-03</td>\n",
       "    </tr>\n",
       "    <tr>\n",
       "      <th>224773</th>\n",
       "      <td>ABB</td>\n",
       "      <td>09:17:00</td>\n",
       "      <td>1371.0</td>\n",
       "      <td>1378.00</td>\n",
       "      <td>1370.80</td>\n",
       "      <td>1378.00</td>\n",
       "      <td>827</td>\n",
       "      <td>2015-07-03</td>\n",
       "    </tr>\n",
       "    <tr>\n",
       "      <th>224774</th>\n",
       "      <td>ABB</td>\n",
       "      <td>09:18:00</td>\n",
       "      <td>1378.0</td>\n",
       "      <td>1378.00</td>\n",
       "      <td>1375.00</td>\n",
       "      <td>1376.00</td>\n",
       "      <td>425</td>\n",
       "      <td>2015-07-03</td>\n",
       "    </tr>\n",
       "    <tr>\n",
       "      <th>224775</th>\n",
       "      <td>ABB</td>\n",
       "      <td>09:19:00</td>\n",
       "      <td>1377.9</td>\n",
       "      <td>1378.00</td>\n",
       "      <td>1375.00</td>\n",
       "      <td>1375.05</td>\n",
       "      <td>398</td>\n",
       "      <td>2015-07-03</td>\n",
       "    </tr>\n",
       "    <tr>\n",
       "      <th>224776</th>\n",
       "      <td>ABB</td>\n",
       "      <td>09:20:00</td>\n",
       "      <td>1375.0</td>\n",
       "      <td>1377.70</td>\n",
       "      <td>1367.45</td>\n",
       "      <td>1368.00</td>\n",
       "      <td>279</td>\n",
       "      <td>2015-07-03</td>\n",
       "    </tr>\n",
       "  </tbody>\n",
       "</table>\n",
       "</div>"
      ],
      "text/plain": [
       "         id      time    open     high      low    close volume    NewDate\n",
       "224772  ABB  09:16:00  1365.3  1370.95  1365.30  1369.55     82 2015-07-03\n",
       "224773  ABB  09:17:00  1371.0  1378.00  1370.80  1378.00    827 2015-07-03\n",
       "224774  ABB  09:18:00  1378.0  1378.00  1375.00  1376.00    425 2015-07-03\n",
       "224775  ABB  09:19:00  1377.9  1378.00  1375.00  1375.05    398 2015-07-03\n",
       "224776  ABB  09:20:00  1375.0  1377.70  1367.45  1368.00    279 2015-07-03"
      ]
     },
     "execution_count": 20,
     "metadata": {},
     "output_type": "execute_result"
    }
   ],
   "source": [
    "ABB.head()"
   ]
  },
  {
   "cell_type": "code",
   "execution_count": 22,
   "metadata": {},
   "outputs": [],
   "source": [
    "ABB['Day'] = pd.to_datetime(ABB['NewDate']).dt.day"
   ]
  },
  {
   "cell_type": "code",
   "execution_count": 23,
   "metadata": {},
   "outputs": [],
   "source": [
    "ABB['Month'] = pd.to_datetime(ABB['NewDate']).dt.month"
   ]
  },
  {
   "cell_type": "code",
   "execution_count": 24,
   "metadata": {},
   "outputs": [],
   "source": [
    "ABB['Year'] = pd.to_datetime(ABB['NewDate']).dt.year"
   ]
  },
  {
   "cell_type": "code",
   "execution_count": 25,
   "metadata": {},
   "outputs": [],
   "source": [
    "ABB = ABB.drop('NewDate',axis=1)"
   ]
  },
  {
   "cell_type": "code",
   "execution_count": 26,
   "metadata": {},
   "outputs": [],
   "source": [
    "ABB[['hour','min','sec']] = ABB['time'].astype(str).str.split(':', expand=True).astype(int)"
   ]
  },
  {
   "cell_type": "code",
   "execution_count": 27,
   "metadata": {},
   "outputs": [
    {
     "data": {
      "text/html": [
       "<div>\n",
       "<style scoped>\n",
       "    .dataframe tbody tr th:only-of-type {\n",
       "        vertical-align: middle;\n",
       "    }\n",
       "\n",
       "    .dataframe tbody tr th {\n",
       "        vertical-align: top;\n",
       "    }\n",
       "\n",
       "    .dataframe thead th {\n",
       "        text-align: right;\n",
       "    }\n",
       "</style>\n",
       "<table border=\"1\" class=\"dataframe\">\n",
       "  <thead>\n",
       "    <tr style=\"text-align: right;\">\n",
       "      <th></th>\n",
       "      <th>id</th>\n",
       "      <th>time</th>\n",
       "      <th>open</th>\n",
       "      <th>high</th>\n",
       "      <th>low</th>\n",
       "      <th>close</th>\n",
       "      <th>volume</th>\n",
       "      <th>Day</th>\n",
       "      <th>Month</th>\n",
       "      <th>Year</th>\n",
       "      <th>hour</th>\n",
       "      <th>min</th>\n",
       "      <th>sec</th>\n",
       "    </tr>\n",
       "  </thead>\n",
       "  <tbody>\n",
       "    <tr>\n",
       "      <th>224772</th>\n",
       "      <td>ABB</td>\n",
       "      <td>09:16:00</td>\n",
       "      <td>1365.3</td>\n",
       "      <td>1370.95</td>\n",
       "      <td>1365.30</td>\n",
       "      <td>1369.55</td>\n",
       "      <td>82</td>\n",
       "      <td>3</td>\n",
       "      <td>7</td>\n",
       "      <td>2015</td>\n",
       "      <td>9</td>\n",
       "      <td>16</td>\n",
       "      <td>0</td>\n",
       "    </tr>\n",
       "    <tr>\n",
       "      <th>224773</th>\n",
       "      <td>ABB</td>\n",
       "      <td>09:17:00</td>\n",
       "      <td>1371.0</td>\n",
       "      <td>1378.00</td>\n",
       "      <td>1370.80</td>\n",
       "      <td>1378.00</td>\n",
       "      <td>827</td>\n",
       "      <td>3</td>\n",
       "      <td>7</td>\n",
       "      <td>2015</td>\n",
       "      <td>9</td>\n",
       "      <td>17</td>\n",
       "      <td>0</td>\n",
       "    </tr>\n",
       "    <tr>\n",
       "      <th>224774</th>\n",
       "      <td>ABB</td>\n",
       "      <td>09:18:00</td>\n",
       "      <td>1378.0</td>\n",
       "      <td>1378.00</td>\n",
       "      <td>1375.00</td>\n",
       "      <td>1376.00</td>\n",
       "      <td>425</td>\n",
       "      <td>3</td>\n",
       "      <td>7</td>\n",
       "      <td>2015</td>\n",
       "      <td>9</td>\n",
       "      <td>18</td>\n",
       "      <td>0</td>\n",
       "    </tr>\n",
       "    <tr>\n",
       "      <th>224775</th>\n",
       "      <td>ABB</td>\n",
       "      <td>09:19:00</td>\n",
       "      <td>1377.9</td>\n",
       "      <td>1378.00</td>\n",
       "      <td>1375.00</td>\n",
       "      <td>1375.05</td>\n",
       "      <td>398</td>\n",
       "      <td>3</td>\n",
       "      <td>7</td>\n",
       "      <td>2015</td>\n",
       "      <td>9</td>\n",
       "      <td>19</td>\n",
       "      <td>0</td>\n",
       "    </tr>\n",
       "    <tr>\n",
       "      <th>224776</th>\n",
       "      <td>ABB</td>\n",
       "      <td>09:20:00</td>\n",
       "      <td>1375.0</td>\n",
       "      <td>1377.70</td>\n",
       "      <td>1367.45</td>\n",
       "      <td>1368.00</td>\n",
       "      <td>279</td>\n",
       "      <td>3</td>\n",
       "      <td>7</td>\n",
       "      <td>2015</td>\n",
       "      <td>9</td>\n",
       "      <td>20</td>\n",
       "      <td>0</td>\n",
       "    </tr>\n",
       "  </tbody>\n",
       "</table>\n",
       "</div>"
      ],
      "text/plain": [
       "         id      time    open     high      low    close volume  Day  Month  \\\n",
       "224772  ABB  09:16:00  1365.3  1370.95  1365.30  1369.55     82    3      7   \n",
       "224773  ABB  09:17:00  1371.0  1378.00  1370.80  1378.00    827    3      7   \n",
       "224774  ABB  09:18:00  1378.0  1378.00  1375.00  1376.00    425    3      7   \n",
       "224775  ABB  09:19:00  1377.9  1378.00  1375.00  1375.05    398    3      7   \n",
       "224776  ABB  09:20:00  1375.0  1377.70  1367.45  1368.00    279    3      7   \n",
       "\n",
       "        Year  hour  min  sec  \n",
       "224772  2015     9   16    0  \n",
       "224773  2015     9   17    0  \n",
       "224774  2015     9   18    0  \n",
       "224775  2015     9   19    0  \n",
       "224776  2015     9   20    0  "
      ]
     },
     "execution_count": 27,
     "metadata": {},
     "output_type": "execute_result"
    }
   ],
   "source": [
    "ABB.head()"
   ]
  },
  {
   "cell_type": "code",
   "execution_count": 28,
   "metadata": {},
   "outputs": [],
   "source": [
    "ABB =ABB.drop('time',axis=1)"
   ]
  },
  {
   "cell_type": "code",
   "execution_count": 29,
   "metadata": {},
   "outputs": [
    {
     "data": {
      "text/html": [
       "<div>\n",
       "<style scoped>\n",
       "    .dataframe tbody tr th:only-of-type {\n",
       "        vertical-align: middle;\n",
       "    }\n",
       "\n",
       "    .dataframe tbody tr th {\n",
       "        vertical-align: top;\n",
       "    }\n",
       "\n",
       "    .dataframe thead th {\n",
       "        text-align: right;\n",
       "    }\n",
       "</style>\n",
       "<table border=\"1\" class=\"dataframe\">\n",
       "  <thead>\n",
       "    <tr style=\"text-align: right;\">\n",
       "      <th></th>\n",
       "      <th>id</th>\n",
       "      <th>open</th>\n",
       "      <th>high</th>\n",
       "      <th>low</th>\n",
       "      <th>close</th>\n",
       "      <th>volume</th>\n",
       "      <th>Day</th>\n",
       "      <th>Month</th>\n",
       "      <th>Year</th>\n",
       "      <th>hour</th>\n",
       "      <th>min</th>\n",
       "      <th>sec</th>\n",
       "    </tr>\n",
       "  </thead>\n",
       "  <tbody>\n",
       "    <tr>\n",
       "      <th>224772</th>\n",
       "      <td>ABB</td>\n",
       "      <td>1365.3</td>\n",
       "      <td>1370.95</td>\n",
       "      <td>1365.30</td>\n",
       "      <td>1369.55</td>\n",
       "      <td>82</td>\n",
       "      <td>3</td>\n",
       "      <td>7</td>\n",
       "      <td>2015</td>\n",
       "      <td>9</td>\n",
       "      <td>16</td>\n",
       "      <td>0</td>\n",
       "    </tr>\n",
       "    <tr>\n",
       "      <th>224773</th>\n",
       "      <td>ABB</td>\n",
       "      <td>1371.0</td>\n",
       "      <td>1378.00</td>\n",
       "      <td>1370.80</td>\n",
       "      <td>1378.00</td>\n",
       "      <td>827</td>\n",
       "      <td>3</td>\n",
       "      <td>7</td>\n",
       "      <td>2015</td>\n",
       "      <td>9</td>\n",
       "      <td>17</td>\n",
       "      <td>0</td>\n",
       "    </tr>\n",
       "    <tr>\n",
       "      <th>224774</th>\n",
       "      <td>ABB</td>\n",
       "      <td>1378.0</td>\n",
       "      <td>1378.00</td>\n",
       "      <td>1375.00</td>\n",
       "      <td>1376.00</td>\n",
       "      <td>425</td>\n",
       "      <td>3</td>\n",
       "      <td>7</td>\n",
       "      <td>2015</td>\n",
       "      <td>9</td>\n",
       "      <td>18</td>\n",
       "      <td>0</td>\n",
       "    </tr>\n",
       "    <tr>\n",
       "      <th>224775</th>\n",
       "      <td>ABB</td>\n",
       "      <td>1377.9</td>\n",
       "      <td>1378.00</td>\n",
       "      <td>1375.00</td>\n",
       "      <td>1375.05</td>\n",
       "      <td>398</td>\n",
       "      <td>3</td>\n",
       "      <td>7</td>\n",
       "      <td>2015</td>\n",
       "      <td>9</td>\n",
       "      <td>19</td>\n",
       "      <td>0</td>\n",
       "    </tr>\n",
       "    <tr>\n",
       "      <th>224776</th>\n",
       "      <td>ABB</td>\n",
       "      <td>1375.0</td>\n",
       "      <td>1377.70</td>\n",
       "      <td>1367.45</td>\n",
       "      <td>1368.00</td>\n",
       "      <td>279</td>\n",
       "      <td>3</td>\n",
       "      <td>7</td>\n",
       "      <td>2015</td>\n",
       "      <td>9</td>\n",
       "      <td>20</td>\n",
       "      <td>0</td>\n",
       "    </tr>\n",
       "  </tbody>\n",
       "</table>\n",
       "</div>"
      ],
      "text/plain": [
       "         id    open     high      low    close volume  Day  Month  Year  hour  \\\n",
       "224772  ABB  1365.3  1370.95  1365.30  1369.55     82    3      7  2015     9   \n",
       "224773  ABB  1371.0  1378.00  1370.80  1378.00    827    3      7  2015     9   \n",
       "224774  ABB  1378.0  1378.00  1375.00  1376.00    425    3      7  2015     9   \n",
       "224775  ABB  1377.9  1378.00  1375.00  1375.05    398    3      7  2015     9   \n",
       "224776  ABB  1375.0  1377.70  1367.45  1368.00    279    3      7  2015     9   \n",
       "\n",
       "        min  sec  \n",
       "224772   16    0  \n",
       "224773   17    0  \n",
       "224774   18    0  \n",
       "224775   19    0  \n",
       "224776   20    0  "
      ]
     },
     "execution_count": 29,
     "metadata": {},
     "output_type": "execute_result"
    }
   ],
   "source": [
    "ABB.head()"
   ]
  },
  {
   "cell_type": "code",
   "execution_count": 30,
   "metadata": {},
   "outputs": [
    {
     "name": "stdout",
     "output_type": "stream",
     "text": [
      "<class 'pandas.core.frame.DataFrame'>\n",
      "Int64Index: 78267 entries, 1003140 to 1081406\n",
      "Data columns (total 8 columns):\n",
      " #   Column  Non-Null Count  Dtype   \n",
      "---  ------  --------------  -----   \n",
      " 0   id      78267 non-null  category\n",
      " 1   date    78267 non-null  object  \n",
      " 2   time    78267 non-null  category\n",
      " 3   open    78267 non-null  float64 \n",
      " 4   high    78267 non-null  float64 \n",
      " 5   low     78267 non-null  float64 \n",
      " 6   close   78267 non-null  float64 \n",
      " 7   volume  78267 non-null  object  \n",
      "dtypes: category(2), float64(4), object(2)\n",
      "memory usage: 4.4+ MB\n"
     ]
    }
   ],
   "source": [
    "ALBK.info()"
   ]
  },
  {
   "cell_type": "markdown",
   "metadata": {},
   "source": [
    "Following above mentioned steps in one cell for 'ALBK' symbol"
   ]
  },
  {
   "cell_type": "code",
   "execution_count": 31,
   "metadata": {},
   "outputs": [
    {
     "name": "stderr",
     "output_type": "stream",
     "text": [
      "C:\\ProgramData\\Anaconda3\\lib\\site-packages\\ipykernel_launcher.py:1: SettingWithCopyWarning: \n",
      "A value is trying to be set on a copy of a slice from a DataFrame.\n",
      "Try using .loc[row_indexer,col_indexer] = value instead\n",
      "\n",
      "See the caveats in the documentation: https://pandas.pydata.org/pandas-docs/stable/user_guide/indexing.html#returning-a-view-versus-a-copy\n",
      "  \"\"\"Entry point for launching an IPython kernel.\n"
     ]
    }
   ],
   "source": [
    "ALBK['NewDate'] =  pd.to_datetime(ALBK['date'].astype(str),format='%Y%m%d')\n",
    "ALBK= ALBK.drop('date',axis=1)\n",
    "ALBK['Day'] = pd.to_datetime(ALBK['NewDate']).dt.day\n",
    "ALBK['Month'] = pd.to_datetime(ALBK['NewDate']).dt.month\n",
    "ALBK['Year'] = pd.to_datetime(ALBK['NewDate']).dt.year\n",
    "ALBK = ALBK.drop('NewDate',axis=1)\n",
    "ALBK[['hour','min','sec']] = ALBK['time'].astype(str).str.split(':', expand=True).astype(int)\n",
    "ALBK =ALBK.drop('time',axis=1)"
   ]
  },
  {
   "cell_type": "code",
   "execution_count": 32,
   "metadata": {},
   "outputs": [
    {
     "data": {
      "text/html": [
       "<div>\n",
       "<style scoped>\n",
       "    .dataframe tbody tr th:only-of-type {\n",
       "        vertical-align: middle;\n",
       "    }\n",
       "\n",
       "    .dataframe tbody tr th {\n",
       "        vertical-align: top;\n",
       "    }\n",
       "\n",
       "    .dataframe thead th {\n",
       "        text-align: right;\n",
       "    }\n",
       "</style>\n",
       "<table border=\"1\" class=\"dataframe\">\n",
       "  <thead>\n",
       "    <tr style=\"text-align: right;\">\n",
       "      <th></th>\n",
       "      <th>id</th>\n",
       "      <th>open</th>\n",
       "      <th>high</th>\n",
       "      <th>low</th>\n",
       "      <th>close</th>\n",
       "      <th>volume</th>\n",
       "      <th>Day</th>\n",
       "      <th>Month</th>\n",
       "      <th>Year</th>\n",
       "      <th>hour</th>\n",
       "      <th>min</th>\n",
       "      <th>sec</th>\n",
       "    </tr>\n",
       "  </thead>\n",
       "  <tbody>\n",
       "    <tr>\n",
       "      <th>1003140</th>\n",
       "      <td>ALBK</td>\n",
       "      <td>88.00</td>\n",
       "      <td>88.3</td>\n",
       "      <td>87.65</td>\n",
       "      <td>88.20</td>\n",
       "      <td>7897</td>\n",
       "      <td>3</td>\n",
       "      <td>7</td>\n",
       "      <td>2015</td>\n",
       "      <td>9</td>\n",
       "      <td>16</td>\n",
       "      <td>0</td>\n",
       "    </tr>\n",
       "    <tr>\n",
       "      <th>1003141</th>\n",
       "      <td>ALBK</td>\n",
       "      <td>88.20</td>\n",
       "      <td>88.2</td>\n",
       "      <td>88.00</td>\n",
       "      <td>88.10</td>\n",
       "      <td>6091</td>\n",
       "      <td>3</td>\n",
       "      <td>7</td>\n",
       "      <td>2015</td>\n",
       "      <td>9</td>\n",
       "      <td>17</td>\n",
       "      <td>0</td>\n",
       "    </tr>\n",
       "    <tr>\n",
       "      <th>1003142</th>\n",
       "      <td>ALBK</td>\n",
       "      <td>88.05</td>\n",
       "      <td>88.3</td>\n",
       "      <td>88.05</td>\n",
       "      <td>88.20</td>\n",
       "      <td>3557</td>\n",
       "      <td>3</td>\n",
       "      <td>7</td>\n",
       "      <td>2015</td>\n",
       "      <td>9</td>\n",
       "      <td>18</td>\n",
       "      <td>0</td>\n",
       "    </tr>\n",
       "    <tr>\n",
       "      <th>1003143</th>\n",
       "      <td>ALBK</td>\n",
       "      <td>88.20</td>\n",
       "      <td>88.4</td>\n",
       "      <td>88.20</td>\n",
       "      <td>88.25</td>\n",
       "      <td>8932</td>\n",
       "      <td>3</td>\n",
       "      <td>7</td>\n",
       "      <td>2015</td>\n",
       "      <td>9</td>\n",
       "      <td>19</td>\n",
       "      <td>0</td>\n",
       "    </tr>\n",
       "    <tr>\n",
       "      <th>1003144</th>\n",
       "      <td>ALBK</td>\n",
       "      <td>88.25</td>\n",
       "      <td>88.3</td>\n",
       "      <td>88.10</td>\n",
       "      <td>88.25</td>\n",
       "      <td>13613</td>\n",
       "      <td>3</td>\n",
       "      <td>7</td>\n",
       "      <td>2015</td>\n",
       "      <td>9</td>\n",
       "      <td>20</td>\n",
       "      <td>0</td>\n",
       "    </tr>\n",
       "  </tbody>\n",
       "</table>\n",
       "</div>"
      ],
      "text/plain": [
       "           id   open  high    low  close volume  Day  Month  Year  hour  min  \\\n",
       "1003140  ALBK  88.00  88.3  87.65  88.20   7897    3      7  2015     9   16   \n",
       "1003141  ALBK  88.20  88.2  88.00  88.10   6091    3      7  2015     9   17   \n",
       "1003142  ALBK  88.05  88.3  88.05  88.20   3557    3      7  2015     9   18   \n",
       "1003143  ALBK  88.20  88.4  88.20  88.25   8932    3      7  2015     9   19   \n",
       "1003144  ALBK  88.25  88.3  88.10  88.25  13613    3      7  2015     9   20   \n",
       "\n",
       "         sec  \n",
       "1003140    0  \n",
       "1003141    0  \n",
       "1003142    0  \n",
       "1003143    0  \n",
       "1003144    0  "
      ]
     },
     "execution_count": 32,
     "metadata": {},
     "output_type": "execute_result"
    }
   ],
   "source": [
    "ALBK.head()"
   ]
  },
  {
   "cell_type": "code",
   "execution_count": 33,
   "metadata": {},
   "outputs": [],
   "source": [
    "ALBK.to_csv('ALBK.csv')"
   ]
  },
  {
   "cell_type": "code",
   "execution_count": 34,
   "metadata": {},
   "outputs": [],
   "source": [
    "import matplotlib.pyplot as plt"
   ]
  },
  {
   "cell_type": "code",
   "execution_count": 35,
   "metadata": {},
   "outputs": [
    {
     "data": {
      "image/png": "[encoded data removed]",
      "text/plain": [
       "<Figure size 432x288 with 1 Axes>"
      ]
     },
     "metadata": {
      "needs_background": "light"
     },
     "output_type": "display_data"
    },
    {
     "data": {
      "image/png": "[encoded data removed]",
      "text/plain": [
       "<Figure size 432x288 with 1 Axes>"
      ]
     },
     "metadata": {
      "needs_background": "light"
     },
     "output_type": "display_data"
    },
    {
     "data": {
      "image/png": "[encoded data removed]",
      "text/plain": [
       "<Figure size 432x288 with 1 Axes>"
      ]
     },
     "metadata": {
      "needs_background": "light"
     },
     "output_type": "display_data"
    },
    {
     "data": {
      "image/png": "[encoded data removed]",
      "text/plain": [
       "<Figure size 432x288 with 1 Axes>"
      ]
     },
     "metadata": {
      "needs_background": "light"
     },
     "output_type": "display_data"
    },
    {
     "data": {
      "image/png": "[encoded data removed]",
      "text/plain": [
       "<Figure size 432x288 with 1 Axes>"
      ]
     },
     "metadata": {
      "needs_background": "light"
     },
     "output_type": "display_data"
    },
    {
     "data": {
      "image/png": "[encoded data removed]",
      "text/plain": [
       "<Figure size 432x288 with 1 Axes>"
      ]
     },
     "metadata": {
      "needs_background": "light"
     },
     "output_type": "display_data"
    },
    {
     "data": {
      "image/png": "[encoded data removed]",
      "text/plain": [
       "<Figure size 432x288 with 1 Axes>"
      ]
     },
     "metadata": {
      "needs_background": "light"
     },
     "output_type": "display_data"
    },
    {
     "data": {
      "image/png": "[encoded data removed]",
      "text/plain": [
       "<Figure size 432x288 with 1 Axes>"
      ]
     },
     "metadata": {
      "needs_background": "light"
     },
     "output_type": "display_data"
    },
    {
     "data": {
      "image/png": "[encoded data removed]",
      "text/plain": [
       "<Figure size 432x288 with 1 Axes>"
      ]
     },
     "metadata": {
      "needs_background": "light"
     },
     "output_type": "display_data"
    },
    {
     "data": {
      "image/png": "[encoded data removed]",
      "text/plain": [
       "<Figure size 432x288 with 1 Axes>"
      ]
     },
     "metadata": {
      "needs_background": "light"
     },
     "output_type": "display_data"
    },
    {
     "data": {
      "image/png": "[encoded data removed]",
      "text/plain": [
       "<Figure size 432x288 with 1 Axes>"
      ]
     },
     "metadata": {
      "needs_background": "light"
     },
     "output_type": "display_data"
    },
    {
     "data": {
      "image/png": "[encoded data removed]",
      "text/plain": [
       "<Figure size 432x288 with 1 Axes>"
      ]
     },
     "metadata": {
      "needs_background": "light"
     },
     "output_type": "display_data"
    }
   ],
   "source": [
    "for i in ALBK.columns:\n",
    "    ALBK.plot(kind='scatter',x='close',y=i)"
   ]
  },
  {
   "cell_type": "code",
   "execution_count": 36,
   "metadata": {},
   "outputs": [],
   "source": [
    "from sklearn.linear_model  import Ridge,Lasso,RidgeCV, LassoCV, ElasticNet, ElasticNetCV, LinearRegression\n",
    "from sklearn.model_selection import train_test_split\n",
    "from sklearn.preprocessing import StandardScaler "
   ]
  },
  {
   "cell_type": "code",
   "execution_count": 37,
   "metadata": {},
   "outputs": [],
   "source": [
    "y = ALBK['close']\n",
    "X =ALBK.drop(columns = ['id','close','id','Day','Month','Year','hour','min','sec'])"
   ]
  },
  {
   "cell_type": "code",
   "execution_count": 38,
   "metadata": {},
   "outputs": [
    {
     "data": {
      "text/html": [
       "<div>\n",
       "<style scoped>\n",
       "    .dataframe tbody tr th:only-of-type {\n",
       "        vertical-align: middle;\n",
       "    }\n",
       "\n",
       "    .dataframe tbody tr th {\n",
       "        vertical-align: top;\n",
       "    }\n",
       "\n",
       "    .dataframe thead th {\n",
       "        text-align: right;\n",
       "    }\n",
       "</style>\n",
       "<table border=\"1\" class=\"dataframe\">\n",
       "  <thead>\n",
       "    <tr style=\"text-align: right;\">\n",
       "      <th></th>\n",
       "      <th>open</th>\n",
       "      <th>high</th>\n",
       "      <th>low</th>\n",
       "      <th>volume</th>\n",
       "    </tr>\n",
       "  </thead>\n",
       "  <tbody>\n",
       "    <tr>\n",
       "      <th>1003140</th>\n",
       "      <td>88.00</td>\n",
       "      <td>88.3</td>\n",
       "      <td>87.65</td>\n",
       "      <td>7897</td>\n",
       "    </tr>\n",
       "    <tr>\n",
       "      <th>1003141</th>\n",
       "      <td>88.20</td>\n",
       "      <td>88.2</td>\n",
       "      <td>88.00</td>\n",
       "      <td>6091</td>\n",
       "    </tr>\n",
       "    <tr>\n",
       "      <th>1003142</th>\n",
       "      <td>88.05</td>\n",
       "      <td>88.3</td>\n",
       "      <td>88.05</td>\n",
       "      <td>3557</td>\n",
       "    </tr>\n",
       "    <tr>\n",
       "      <th>1003143</th>\n",
       "      <td>88.20</td>\n",
       "      <td>88.4</td>\n",
       "      <td>88.20</td>\n",
       "      <td>8932</td>\n",
       "    </tr>\n",
       "    <tr>\n",
       "      <th>1003144</th>\n",
       "      <td>88.25</td>\n",
       "      <td>88.3</td>\n",
       "      <td>88.10</td>\n",
       "      <td>13613</td>\n",
       "    </tr>\n",
       "  </tbody>\n",
       "</table>\n",
       "</div>"
      ],
      "text/plain": [
       "          open  high    low volume\n",
       "1003140  88.00  88.3  87.65   7897\n",
       "1003141  88.20  88.2  88.00   6091\n",
       "1003142  88.05  88.3  88.05   3557\n",
       "1003143  88.20  88.4  88.20   8932\n",
       "1003144  88.25  88.3  88.10  13613"
      ]
     },
     "execution_count": 38,
     "metadata": {},
     "output_type": "execute_result"
    }
   ],
   "source": [
    "X.head()"
   ]
  },
  {
   "cell_type": "code",
   "execution_count": 39,
   "metadata": {},
   "outputs": [
    {
     "data": {
      "text/plain": [
       "1003140    88.20\n",
       "1003141    88.10\n",
       "1003142    88.20\n",
       "1003143    88.25\n",
       "1003144    88.25\n",
       "Name: close, dtype: float64"
      ]
     },
     "execution_count": 39,
     "metadata": {},
     "output_type": "execute_result"
    }
   ],
   "source": [
    "y.head()"
   ]
  },
  {
   "cell_type": "code",
   "execution_count": 40,
   "metadata": {},
   "outputs": [],
   "source": [
    "x_train,x_test,y_train,y_test = train_test_split(X,y,test_size = 0.25,random_state=355)"
   ]
  },
  {
   "cell_type": "code",
   "execution_count": 41,
   "metadata": {},
   "outputs": [
    {
     "data": {
      "text/html": [
       "<div>\n",
       "<style scoped>\n",
       "    .dataframe tbody tr th:only-of-type {\n",
       "        vertical-align: middle;\n",
       "    }\n",
       "\n",
       "    .dataframe tbody tr th {\n",
       "        vertical-align: top;\n",
       "    }\n",
       "\n",
       "    .dataframe thead th {\n",
       "        text-align: right;\n",
       "    }\n",
       "</style>\n",
       "<table border=\"1\" class=\"dataframe\">\n",
       "  <thead>\n",
       "    <tr style=\"text-align: right;\">\n",
       "      <th></th>\n",
       "      <th>open</th>\n",
       "      <th>high</th>\n",
       "      <th>low</th>\n",
       "      <th>volume</th>\n",
       "    </tr>\n",
       "  </thead>\n",
       "  <tbody>\n",
       "    <tr>\n",
       "      <th>1049636</th>\n",
       "      <td>103.20</td>\n",
       "      <td>103.35</td>\n",
       "      <td>103.20</td>\n",
       "      <td>10793</td>\n",
       "    </tr>\n",
       "    <tr>\n",
       "      <th>1036273</th>\n",
       "      <td>106.10</td>\n",
       "      <td>106.10</td>\n",
       "      <td>105.95</td>\n",
       "      <td>2483</td>\n",
       "    </tr>\n",
       "    <tr>\n",
       "      <th>1064367</th>\n",
       "      <td>109.15</td>\n",
       "      <td>109.25</td>\n",
       "      <td>109.15</td>\n",
       "      <td>1650</td>\n",
       "    </tr>\n",
       "    <tr>\n",
       "      <th>1005083</th>\n",
       "      <td>91.25</td>\n",
       "      <td>91.35</td>\n",
       "      <td>91.00</td>\n",
       "      <td>10708</td>\n",
       "    </tr>\n",
       "    <tr>\n",
       "      <th>1052060</th>\n",
       "      <td>89.05</td>\n",
       "      <td>89.10</td>\n",
       "      <td>89.05</td>\n",
       "      <td>488</td>\n",
       "    </tr>\n",
       "    <tr>\n",
       "      <th>...</th>\n",
       "      <td>...</td>\n",
       "      <td>...</td>\n",
       "      <td>...</td>\n",
       "      <td>...</td>\n",
       "    </tr>\n",
       "    <tr>\n",
       "      <th>1056277</th>\n",
       "      <td>98.40</td>\n",
       "      <td>98.75</td>\n",
       "      <td>98.40</td>\n",
       "      <td>11628</td>\n",
       "    </tr>\n",
       "    <tr>\n",
       "      <th>1029815</th>\n",
       "      <td>90.55</td>\n",
       "      <td>90.70</td>\n",
       "      <td>90.55</td>\n",
       "      <td>3626</td>\n",
       "    </tr>\n",
       "    <tr>\n",
       "      <th>1076135</th>\n",
       "      <td>98.55</td>\n",
       "      <td>98.65</td>\n",
       "      <td>98.45</td>\n",
       "      <td>5682</td>\n",
       "    </tr>\n",
       "    <tr>\n",
       "      <th>1027193</th>\n",
       "      <td>123.45</td>\n",
       "      <td>123.55</td>\n",
       "      <td>123.10</td>\n",
       "      <td>15855</td>\n",
       "    </tr>\n",
       "    <tr>\n",
       "      <th>1022214</th>\n",
       "      <td>78.60</td>\n",
       "      <td>78.65</td>\n",
       "      <td>78.40</td>\n",
       "      <td>4089</td>\n",
       "    </tr>\n",
       "  </tbody>\n",
       "</table>\n",
       "<p>58700 rows × 4 columns</p>\n",
       "</div>"
      ],
      "text/plain": [
       "           open    high     low volume\n",
       "1049636  103.20  103.35  103.20  10793\n",
       "1036273  106.10  106.10  105.95   2483\n",
       "1064367  109.15  109.25  109.15   1650\n",
       "1005083   91.25   91.35   91.00  10708\n",
       "1052060   89.05   89.10   89.05    488\n",
       "...         ...     ...     ...    ...\n",
       "1056277   98.40   98.75   98.40  11628\n",
       "1029815   90.55   90.70   90.55   3626\n",
       "1076135   98.55   98.65   98.45   5682\n",
       "1027193  123.45  123.55  123.10  15855\n",
       "1022214   78.60   78.65   78.40   4089\n",
       "\n",
       "[58700 rows x 4 columns]"
      ]
     },
     "execution_count": 41,
     "metadata": {},
     "output_type": "execute_result"
    }
   ],
   "source": [
    "x_train"
   ]
  },
  {
   "cell_type": "code",
   "execution_count": 42,
   "metadata": {},
   "outputs": [
    {
     "data": {
      "text/plain": [
       "LinearRegression(copy_X=True, fit_intercept=True, n_jobs=None, normalize=False)"
      ]
     },
     "execution_count": 42,
     "metadata": {},
     "output_type": "execute_result"
    }
   ],
   "source": [
    "regression = LinearRegression()\n",
    "regression.fit(x_train,y_train)"
   ]
  },
  {
   "cell_type": "code",
   "execution_count": 43,
   "metadata": {},
   "outputs": [],
   "source": [
    "import pickle\n",
    "filename='ALBK_Linear.pickle'\n",
    "pickle.dump(regression,open(filename,'wb'))"
   ]
  },
  {
   "cell_type": "code",
   "execution_count": 44,
   "metadata": {},
   "outputs": [
    {
     "data": {
      "text/plain": [
       "array([88.05678238])"
      ]
     },
     "execution_count": 44,
     "metadata": {},
     "output_type": "execute_result"
    }
   ],
   "source": [
    "loaded_model=pickle.load(open(filename,'rb'))\n",
    "a=loaded_model.predict([[88.20,88.2,88.00,6091]])\n",
    "a"
   ]
  },
  {
   "cell_type": "code",
   "execution_count": 45,
   "metadata": {},
   "outputs": [
    {
     "data": {
      "text/plain": [
       "0.9999834257222899"
      ]
     },
     "execution_count": 45,
     "metadata": {},
     "output_type": "execute_result"
    }
   ],
   "source": [
    "regression.score(x_train,y_train)"
   ]
  },
  {
   "cell_type": "code",
   "execution_count": 46,
   "metadata": {},
   "outputs": [],
   "source": [
    "def adj_r2(x,y):\n",
    "    r2 = regression.score(x,y)\n",
    "    n = x.shape[0]\n",
    "    p = x.shape[1]\n",
    "    adjusted_r2 = 1-(1-r2)*(n-1)/(n-p-1)\n",
    "    return adjusted_r2"
   ]
  },
  {
   "cell_type": "code",
   "execution_count": 47,
   "metadata": {},
   "outputs": [
    {
     "data": {
      "text/plain": [
       "0.999983424592771"
      ]
     },
     "execution_count": 47,
     "metadata": {},
     "output_type": "execute_result"
    }
   ],
   "source": [
    "adj_r2(x_train,y_train)"
   ]
  },
  {
   "cell_type": "markdown",
   "metadata": {},
   "source": [
    "Decsison tree"
   ]
  },
  {
   "cell_type": "code",
   "execution_count": 48,
   "metadata": {},
   "outputs": [],
   "source": [
    "from sklearn.tree import DecisionTreeClassifier, export_graphviz\n",
    "from sklearn import tree\n",
    "from sklearn.model_selection import train_test_split,GridSearchCV"
   ]
  },
  {
   "cell_type": "code",
   "execution_count": 57,
   "metadata": {},
   "outputs": [],
   "source": [
    "x_train,x_test,y_train,y_test = train_test_split(X,y,test_size = 0.20, random_state= 40)"
   ]
  },
  {
   "cell_type": "code",
   "execution_count": 62,
   "metadata": {},
   "outputs": [
    {
     "name": "stdout",
     "output_type": "stream",
     "text": [
      "[990 427 600 ... 250 751 203]\n",
      "continuous\n",
      "multiclass\n",
      "multiclass\n"
     ]
    }
   ],
   "source": [
    "training_scores_encoded=lab_enc.fit_transform(y_train)\n",
    "\n",
    "print(training_scores_encoded)\n",
    "print(utils.multiclass.type_of_target(y_train))\n",
    "print(utils.multiclass.type_of_target(y_train.astype('int')))\n",
    "print(utils.multiclass.type_of_target(training_scores_encoded))"
   ]
  },
  {
   "cell_type": "code",
   "execution_count": 63,
   "metadata": {},
   "outputs": [
    {
     "data": {
      "text/plain": [
       "DecisionTreeClassifier(ccp_alpha=0.0, class_weight=None, criterion='gini',\n",
       "                       max_depth=None, max_features=None, max_leaf_nodes=None,\n",
       "                       min_impurity_decrease=0.0, min_impurity_split=None,\n",
       "                       min_samples_leaf=1, min_samples_split=2,\n",
       "                       min_weight_fraction_leaf=0.0, presort='deprecated',\n",
       "                       random_state=None, splitter='best')"
      ]
     },
     "execution_count": 63,
     "metadata": {},
     "output_type": "execute_result"
    }
   ],
   "source": [
    "clf = DecisionTreeClassifier()\n",
    "clf.fit(x_train,training_scores_encoded)"
   ]
  },
  {
   "cell_type": "code",
   "execution_count": 67,
   "metadata": {},
   "outputs": [
    {
     "data": {
      "text/plain": [
       "0.9996965486400587"
      ]
     },
     "execution_count": 67,
     "metadata": {},
     "output_type": "execute_result"
    }
   ],
   "source": [
    "clf.score(x_train,training_scores_encoded)"
   ]
  },
  {
   "cell_type": "code",
   "execution_count": 68,
   "metadata": {},
   "outputs": [],
   "source": [
    "y_test_encoded=lab_enc.fit_transform(y_test)\n"
   ]
  },
  {
   "cell_type": "code",
   "execution_count": 69,
   "metadata": {},
   "outputs": [
    {
     "data": {
      "text/plain": [
       "0.012776287210936502"
      ]
     },
     "execution_count": 69,
     "metadata": {},
     "output_type": "execute_result"
    }
   ],
   "source": [
    "clf.score(x_test,y_test_encoded)"
   ]
  },
  {
   "cell_type": "markdown",
   "metadata": {},
   "source": [
    "KNN"
   ]
  },
  {
   "cell_type": "code",
   "execution_count": 49,
   "metadata": {},
   "outputs": [],
   "source": [
    "from sklearn.neighbors import KNeighborsClassifier\n",
    "from sklearn.model_selection import KFold\n",
    "import seaborn as sns"
   ]
  },
  {
   "cell_type": "code",
   "execution_count": 71,
   "metadata": {},
   "outputs": [],
   "source": [
    "X.to_csv('file.csv',index='false')\n",
    "X = pd.read_csv('file.csv', index_col=0)"
   ]
  },
  {
   "cell_type": "code",
   "execution_count": 72,
   "metadata": {},
   "outputs": [
    {
     "data": {
      "text/html": [
       "<div>\n",
       "<style scoped>\n",
       "    .dataframe tbody tr th:only-of-type {\n",
       "        vertical-align: middle;\n",
       "    }\n",
       "\n",
       "    .dataframe tbody tr th {\n",
       "        vertical-align: top;\n",
       "    }\n",
       "\n",
       "    .dataframe thead th {\n",
       "        text-align: right;\n",
       "    }\n",
       "</style>\n",
       "<table border=\"1\" class=\"dataframe\">\n",
       "  <thead>\n",
       "    <tr style=\"text-align: right;\">\n",
       "      <th></th>\n",
       "      <th>open</th>\n",
       "      <th>high</th>\n",
       "      <th>low</th>\n",
       "      <th>volume</th>\n",
       "    </tr>\n",
       "  </thead>\n",
       "  <tbody>\n",
       "    <tr>\n",
       "      <th>1003140</th>\n",
       "      <td>88.00</td>\n",
       "      <td>88.3</td>\n",
       "      <td>87.65</td>\n",
       "      <td>7897</td>\n",
       "    </tr>\n",
       "    <tr>\n",
       "      <th>1003141</th>\n",
       "      <td>88.20</td>\n",
       "      <td>88.2</td>\n",
       "      <td>88.00</td>\n",
       "      <td>6091</td>\n",
       "    </tr>\n",
       "    <tr>\n",
       "      <th>1003142</th>\n",
       "      <td>88.05</td>\n",
       "      <td>88.3</td>\n",
       "      <td>88.05</td>\n",
       "      <td>3557</td>\n",
       "    </tr>\n",
       "    <tr>\n",
       "      <th>1003143</th>\n",
       "      <td>88.20</td>\n",
       "      <td>88.4</td>\n",
       "      <td>88.20</td>\n",
       "      <td>8932</td>\n",
       "    </tr>\n",
       "    <tr>\n",
       "      <th>1003144</th>\n",
       "      <td>88.25</td>\n",
       "      <td>88.3</td>\n",
       "      <td>88.10</td>\n",
       "      <td>13613</td>\n",
       "    </tr>\n",
       "  </tbody>\n",
       "</table>\n",
       "</div>"
      ],
      "text/plain": [
       "          open  high    low  volume\n",
       "1003140  88.00  88.3  87.65    7897\n",
       "1003141  88.20  88.2  88.00    6091\n",
       "1003142  88.05  88.3  88.05    3557\n",
       "1003143  88.20  88.4  88.20    8932\n",
       "1003144  88.25  88.3  88.10   13613"
      ]
     },
     "execution_count": 72,
     "metadata": {},
     "output_type": "execute_result"
    }
   ],
   "source": [
    "X.head()"
   ]
  },
  {
   "cell_type": "code",
   "execution_count": 74,
   "metadata": {},
   "outputs": [],
   "source": [
    "x_train,x_test,y_train,y_test = train_test_split(X,y, test_size= 0.25)"
   ]
  },
  {
   "cell_type": "code",
   "execution_count": 75,
   "metadata": {},
   "outputs": [
    {
     "ename": "ValueError",
     "evalue": "Unknown label type: 'continuous'",
     "output_type": "error",
     "traceback": [
      "\u001b[1;31m---------------------------------------------------------------------------\u001b[0m",
      "\u001b[1;31mValueError\u001b[0m                                Traceback (most recent call last)",
      "\u001b[1;32m<ipython-input-75-4e899b3233a7>\u001b[0m in \u001b[0;36m<module>\u001b[1;34m\u001b[0m\n\u001b[0;32m      1\u001b[0m \u001b[0mknn\u001b[0m \u001b[1;33m=\u001b[0m \u001b[0mKNeighborsClassifier\u001b[0m\u001b[1;33m(\u001b[0m\u001b[1;33m)\u001b[0m\u001b[1;33m\u001b[0m\u001b[1;33m\u001b[0m\u001b[0m\n\u001b[1;32m----> 2\u001b[1;33m \u001b[0mknn\u001b[0m\u001b[1;33m.\u001b[0m\u001b[0mfit\u001b[0m\u001b[1;33m(\u001b[0m\u001b[0mx_train\u001b[0m\u001b[1;33m,\u001b[0m\u001b[0my_train\u001b[0m\u001b[1;33m)\u001b[0m\u001b[1;33m\u001b[0m\u001b[1;33m\u001b[0m\u001b[0m\n\u001b[0m",
      "\u001b[1;32mC:\\ProgramData\\Anaconda3\\lib\\site-packages\\sklearn\\neighbors\\_base.py\u001b[0m in \u001b[0;36mfit\u001b[1;34m(self, X, y)\u001b[0m\n\u001b[0;32m   1142\u001b[0m             \u001b[0mself\u001b[0m\u001b[1;33m.\u001b[0m\u001b[0moutputs_2d_\u001b[0m \u001b[1;33m=\u001b[0m \u001b[1;32mTrue\u001b[0m\u001b[1;33m\u001b[0m\u001b[1;33m\u001b[0m\u001b[0m\n\u001b[0;32m   1143\u001b[0m \u001b[1;33m\u001b[0m\u001b[0m\n\u001b[1;32m-> 1144\u001b[1;33m         \u001b[0mcheck_classification_targets\u001b[0m\u001b[1;33m(\u001b[0m\u001b[0my\u001b[0m\u001b[1;33m)\u001b[0m\u001b[1;33m\u001b[0m\u001b[1;33m\u001b[0m\u001b[0m\n\u001b[0m\u001b[0;32m   1145\u001b[0m         \u001b[0mself\u001b[0m\u001b[1;33m.\u001b[0m\u001b[0mclasses_\u001b[0m \u001b[1;33m=\u001b[0m \u001b[1;33m[\u001b[0m\u001b[1;33m]\u001b[0m\u001b[1;33m\u001b[0m\u001b[1;33m\u001b[0m\u001b[0m\n\u001b[0;32m   1146\u001b[0m         \u001b[0mself\u001b[0m\u001b[1;33m.\u001b[0m\u001b[0m_y\u001b[0m \u001b[1;33m=\u001b[0m \u001b[0mnp\u001b[0m\u001b[1;33m.\u001b[0m\u001b[0mempty\u001b[0m\u001b[1;33m(\u001b[0m\u001b[0my\u001b[0m\u001b[1;33m.\u001b[0m\u001b[0mshape\u001b[0m\u001b[1;33m,\u001b[0m \u001b[0mdtype\u001b[0m\u001b[1;33m=\u001b[0m\u001b[0mnp\u001b[0m\u001b[1;33m.\u001b[0m\u001b[0mint\u001b[0m\u001b[1;33m)\u001b[0m\u001b[1;33m\u001b[0m\u001b[1;33m\u001b[0m\u001b[0m\n",
      "\u001b[1;32mC:\\ProgramData\\Anaconda3\\lib\\site-packages\\sklearn\\utils\\multiclass.py\u001b[0m in \u001b[0;36mcheck_classification_targets\u001b[1;34m(y)\u001b[0m\n\u001b[0;32m    167\u001b[0m     if y_type not in ['binary', 'multiclass', 'multiclass-multioutput',\n\u001b[0;32m    168\u001b[0m                       'multilabel-indicator', 'multilabel-sequences']:\n\u001b[1;32m--> 169\u001b[1;33m         \u001b[1;32mraise\u001b[0m \u001b[0mValueError\u001b[0m\u001b[1;33m(\u001b[0m\u001b[1;34m\"Unknown label type: %r\"\u001b[0m \u001b[1;33m%\u001b[0m \u001b[0my_type\u001b[0m\u001b[1;33m)\u001b[0m\u001b[1;33m\u001b[0m\u001b[1;33m\u001b[0m\u001b[0m\n\u001b[0m\u001b[0;32m    170\u001b[0m \u001b[1;33m\u001b[0m\u001b[0m\n\u001b[0;32m    171\u001b[0m \u001b[1;33m\u001b[0m\u001b[0m\n",
      "\u001b[1;31mValueError\u001b[0m: Unknown label type: 'continuous'"
     ]
    }
   ],
   "source": [
    "knn = KNeighborsClassifier()\n",
    "knn.fit(x_train,y_train)"
   ]
  },
  {
   "cell_type": "code",
   "execution_count": 76,
   "metadata": {},
   "outputs": [],
   "source": [
    "from sklearn import preprocessing\n",
    "from sklearn import utils\n",
    "lab_enc=preprocessing.LabelEncoder()"
   ]
  },
  {
   "cell_type": "code",
   "execution_count": 77,
   "metadata": {},
   "outputs": [
    {
     "name": "stdout",
     "output_type": "stream",
     "text": [
      "[  33  430 1137 ...  243  286 1045]\n"
     ]
    }
   ],
   "source": [
    "training_scores_encoded=lab_enc.fit_transform(y_train)\n",
    "print(training_scores_encoded)"
   ]
  },
  {
   "cell_type": "code",
   "execution_count": 78,
   "metadata": {},
   "outputs": [
    {
     "name": "stdout",
     "output_type": "stream",
     "text": [
      "continuous\n",
      "multiclass\n",
      "multiclass\n"
     ]
    }
   ],
   "source": [
    "print(utils.multiclass.type_of_target(y_train))\n",
    "print(utils.multiclass.type_of_target(y_train.astype('int')))\n",
    "print(utils.multiclass.type_of_target(training_scores_encoded))"
   ]
  },
  {
   "cell_type": "code",
   "execution_count": 79,
   "metadata": {},
   "outputs": [
    {
     "data": {
      "text/plain": [
       "KNeighborsClassifier(algorithm='auto', leaf_size=30, metric='minkowski',\n",
       "                     metric_params=None, n_jobs=None, n_neighbors=5, p=2,\n",
       "                     weights='uniform')"
      ]
     },
     "execution_count": 79,
     "metadata": {},
     "output_type": "execute_result"
    }
   ],
   "source": [
    "knn = KNeighborsClassifier()\n",
    "knn.fit(x_train,training_scores_encoded)"
   ]
  },
  {
   "cell_type": "code",
   "execution_count": 80,
   "metadata": {},
   "outputs": [],
   "source": [
    "y_pred=knn.predict(x_test)"
   ]
  },
  {
   "cell_type": "code",
   "execution_count": 81,
   "metadata": {},
   "outputs": [],
   "source": [
    "from sklearn.metrics import accuracy_score, confusion_matrix, roc_curve, roc_auc_score\n",
    "y_test_encoded=lab_enc.fit_transform(y_test)"
   ]
  },
  {
   "cell_type": "code",
   "execution_count": 82,
   "metadata": {},
   "outputs": [
    {
     "data": {
      "text/plain": [
       "0.009403587673123116"
      ]
     },
     "execution_count": 82,
     "metadata": {},
     "output_type": "execute_result"
    }
   ],
   "source": [
    "accuracy_score(y_test_encoded,y_pred)"
   ]
  },
  {
   "cell_type": "code",
   "execution_count": 83,
   "metadata": {},
   "outputs": [],
   "source": [
    "param_grid = { 'algorithm' : ['ball_tree', 'kd_tree', 'brute'],\n",
    "               'leaf_size' : [18,20,25,27,30,32,34,36,40],\n",
    "               'n_neighbors' : [3,5,7,9,10,11,12,13,14,15,16]\n",
    "              }"
   ]
  },
  {
   "cell_type": "code",
   "execution_count": 84,
   "metadata": {},
   "outputs": [],
   "source": [
    "gridsearch = GridSearchCV(knn, param_grid,verbose=3)"
   ]
  },
  {
   "cell_type": "code",
   "execution_count": 85,
   "metadata": {},
   "outputs": [
    {
     "name": "stdout",
     "output_type": "stream",
     "text": [
      "Fitting 5 folds for each of 297 candidates, totalling 1485 fits\n",
      "[CV] algorithm=ball_tree, leaf_size=18, n_neighbors=3 ................\n"
     ]
    },
    {
     "name": "stderr",
     "output_type": "stream",
     "text": [
      "C:\\ProgramData\\Anaconda3\\lib\\site-packages\\sklearn\\model_selection\\_split.py:667: UserWarning: The least populated class in y has only 1 members, which is less than n_splits=5.\n",
      "  % (min_groups, self.n_splits)), UserWarning)\n",
      "[Parallel(n_jobs=1)]: Using backend SequentialBackend with 1 concurrent workers.\n"
     ]
    },
    {
     "name": "stdout",
     "output_type": "stream",
     "text": [
      "[CV]  algorithm=ball_tree, leaf_size=18, n_neighbors=3, score=0.022, total=   0.3s\n",
      "[CV] algorithm=ball_tree, leaf_size=18, n_neighbors=3 ................\n"
     ]
    },
    {
     "name": "stderr",
     "output_type": "stream",
     "text": [
      "[Parallel(n_jobs=1)]: Done   1 out of   1 | elapsed:    0.2s remaining:    0.0s\n"
     ]
    },
    {
     "name": "stdout",
     "output_type": "stream",
     "text": [
      "[CV]  algorithm=ball_tree, leaf_size=18, n_neighbors=3, score=0.023, total=   0.2s\n",
      "[CV] algorithm=ball_tree, leaf_size=18, n_neighbors=3 ................\n"
     ]
    },
    {
     "name": "stderr",
     "output_type": "stream",
     "text": [
      "[Parallel(n_jobs=1)]: Done   2 out of   2 | elapsed:    0.4s remaining:    0.0s\n"
     ]
    },
    {
     "name": "stdout",
     "output_type": "stream",
     "text": [
      "[CV]  algorithm=ball_tree, leaf_size=18, n_neighbors=3, score=0.023, total=   0.3s\n",
      "[CV] algorithm=ball_tree, leaf_size=18, n_neighbors=3 ................\n",
      "[CV]  algorithm=ball_tree, leaf_size=18, n_neighbors=3, score=0.021, total=   0.2s\n",
      "[CV] algorithm=ball_tree, leaf_size=18, n_neighbors=3 ................\n",
      "[CV]  algorithm=ball_tree, leaf_size=18, n_neighbors=3, score=0.019, total=   0.2s\n",
      "[CV] algorithm=ball_tree, leaf_size=18, n_neighbors=5 ................\n",
      "[CV]  algorithm=ball_tree, leaf_size=18, n_neighbors=5, score=0.009, total=   0.2s\n",
      "[CV] algorithm=ball_tree, leaf_size=18, n_neighbors=5 ................\n",
      "[CV]  algorithm=ball_tree, leaf_size=18, n_neighbors=5, score=0.009, total=   0.2s\n",
      "[CV] algorithm=ball_tree, leaf_size=18, n_neighbors=5 ................\n",
      "[CV]  algorithm=ball_tree, leaf_size=18, n_neighbors=5, score=0.012, total=   0.2s\n",
      "[CV] algorithm=ball_tree, leaf_size=18, n_neighbors=5 ................\n",
      "[CV]  algorithm=ball_tree, leaf_size=18, n_neighbors=5, score=0.010, total=   0.2s\n",
      "[CV] algorithm=ball_tree, leaf_size=18, n_neighbors=5 ................\n",
      "[CV]  algorithm=ball_tree, leaf_size=18, n_neighbors=5, score=0.009, total=   0.2s\n",
      "[CV] algorithm=ball_tree, leaf_size=18, n_neighbors=7 ................\n",
      "[CV]  algorithm=ball_tree, leaf_size=18, n_neighbors=7, score=0.008, total=   0.2s\n",
      "[CV] algorithm=ball_tree, leaf_size=18, n_neighbors=7 ................\n",
      "[CV]  algorithm=ball_tree, leaf_size=18, n_neighbors=7, score=0.009, total=   0.2s\n",
      "[CV] algorithm=ball_tree, leaf_size=18, n_neighbors=7 ................\n",
      "[CV]  algorithm=ball_tree, leaf_size=18, n_neighbors=7, score=0.008, total=   0.2s\n",
      "[CV] algorithm=ball_tree, leaf_size=18, n_neighbors=7 ................\n",
      "[CV]  algorithm=ball_tree, leaf_size=18, n_neighbors=7, score=0.007, total=   0.2s\n",
      "[CV] algorithm=ball_tree, leaf_size=18, n_neighbors=7 ................\n",
      "[CV]  algorithm=ball_tree, leaf_size=18, n_neighbors=7, score=0.008, total=   0.2s\n",
      "[CV] algorithm=ball_tree, leaf_size=18, n_neighbors=9 ................\n",
      "[CV]  algorithm=ball_tree, leaf_size=18, n_neighbors=9, score=0.008, total=   0.3s\n",
      "[CV] algorithm=ball_tree, leaf_size=18, n_neighbors=9 ................\n",
      "[CV]  algorithm=ball_tree, leaf_size=18, n_neighbors=9, score=0.006, total=   0.2s\n",
      "[CV] algorithm=ball_tree, leaf_size=18, n_neighbors=9 ................\n",
      "[CV]  algorithm=ball_tree, leaf_size=18, n_neighbors=9, score=0.007, total=   0.2s\n",
      "[CV] algorithm=ball_tree, leaf_size=18, n_neighbors=9 ................\n",
      "[CV]  algorithm=ball_tree, leaf_size=18, n_neighbors=9, score=0.007, total=   0.2s\n",
      "[CV] algorithm=ball_tree, leaf_size=18, n_neighbors=9 ................\n",
      "[CV]  algorithm=ball_tree, leaf_size=18, n_neighbors=9, score=0.007, total=   0.2s\n",
      "[CV] algorithm=ball_tree, leaf_size=18, n_neighbors=10 ...............\n",
      "[CV]  algorithm=ball_tree, leaf_size=18, n_neighbors=10, score=0.008, total=   0.2s\n",
      "[CV] algorithm=ball_tree, leaf_size=18, n_neighbors=10 ...............\n",
      "[CV]  algorithm=ball_tree, leaf_size=18, n_neighbors=10, score=0.006, total=   0.2s\n",
      "[CV] algorithm=ball_tree, leaf_size=18, n_neighbors=10 ...............\n",
      "[CV]  algorithm=ball_tree, leaf_size=18, n_neighbors=10, score=0.007, total=   0.2s\n",
      "[CV] algorithm=ball_tree, leaf_size=18, n_neighbors=10 ...............\n",
      "[CV]  algorithm=ball_tree, leaf_size=18, n_neighbors=10, score=0.007, total=   0.3s\n",
      "[CV] algorithm=ball_tree, leaf_size=18, n_neighbors=10 ...............\n",
      "[CV]  algorithm=ball_tree, leaf_size=18, n_neighbors=10, score=0.007, total=   0.3s\n",
      "[CV] algorithm=ball_tree, leaf_size=18, n_neighbors=11 ...............\n",
      "[CV]  algorithm=ball_tree, leaf_size=18, n_neighbors=11, score=0.008, total=   0.3s\n",
      "[CV] algorithm=ball_tree, leaf_size=18, n_neighbors=11 ...............\n",
      "[CV]  algorithm=ball_tree, leaf_size=18, n_neighbors=11, score=0.006, total=   0.3s\n",
      "[CV] algorithm=ball_tree, leaf_size=18, n_neighbors=11 ...............\n",
      "[CV]  algorithm=ball_tree, leaf_size=18, n_neighbors=11, score=0.006, total=   0.3s\n",
      "[CV] algorithm=ball_tree, leaf_size=18, n_neighbors=11 ...............\n",
      "[CV]  algorithm=ball_tree, leaf_size=18, n_neighbors=11, score=0.006, total=   0.3s\n",
      "[CV] algorithm=ball_tree, leaf_size=18, n_neighbors=11 ...............\n"
     ]
    },
    {
     "ename": "KeyboardInterrupt",
     "evalue": "",
     "output_type": "error",
     "traceback": [
      "\u001b[1;31m---------------------------------------------------------------------------\u001b[0m",
      "\u001b[1;31mKeyboardInterrupt\u001b[0m                         Traceback (most recent call last)",
      "\u001b[1;32m<ipython-input-85-abcfc5c96b5d>\u001b[0m in \u001b[0;36m<module>\u001b[1;34m\u001b[0m\n\u001b[1;32m----> 1\u001b[1;33m \u001b[0mgridsearch\u001b[0m\u001b[1;33m.\u001b[0m\u001b[0mfit\u001b[0m\u001b[1;33m(\u001b[0m\u001b[0mx_test\u001b[0m\u001b[1;33m,\u001b[0m\u001b[0my_test_encoded\u001b[0m\u001b[1;33m)\u001b[0m\u001b[1;33m\u001b[0m\u001b[1;33m\u001b[0m\u001b[0m\n\u001b[0m",
      "\u001b[1;32mC:\\ProgramData\\Anaconda3\\lib\\site-packages\\sklearn\\model_selection\\_search.py\u001b[0m in \u001b[0;36mfit\u001b[1;34m(self, X, y, groups, **fit_params)\u001b[0m\n\u001b[0;32m    708\u001b[0m                 \u001b[1;32mreturn\u001b[0m \u001b[0mresults\u001b[0m\u001b[1;33m\u001b[0m\u001b[1;33m\u001b[0m\u001b[0m\n\u001b[0;32m    709\u001b[0m \u001b[1;33m\u001b[0m\u001b[0m\n\u001b[1;32m--> 710\u001b[1;33m             \u001b[0mself\u001b[0m\u001b[1;33m.\u001b[0m\u001b[0m_run_search\u001b[0m\u001b[1;33m(\u001b[0m\u001b[0mevaluate_candidates\u001b[0m\u001b[1;33m)\u001b[0m\u001b[1;33m\u001b[0m\u001b[1;33m\u001b[0m\u001b[0m\n\u001b[0m\u001b[0;32m    711\u001b[0m \u001b[1;33m\u001b[0m\u001b[0m\n\u001b[0;32m    712\u001b[0m         \u001b[1;31m# For multi-metric evaluation, store the best_index_, best_params_ and\u001b[0m\u001b[1;33m\u001b[0m\u001b[1;33m\u001b[0m\u001b[1;33m\u001b[0m\u001b[0m\n",
      "\u001b[1;32mC:\\ProgramData\\Anaconda3\\lib\\site-packages\\sklearn\\model_selection\\_search.py\u001b[0m in \u001b[0;36m_run_search\u001b[1;34m(self, evaluate_candidates)\u001b[0m\n\u001b[0;32m   1149\u001b[0m     \u001b[1;32mdef\u001b[0m \u001b[0m_run_search\u001b[0m\u001b[1;33m(\u001b[0m\u001b[0mself\u001b[0m\u001b[1;33m,\u001b[0m \u001b[0mevaluate_candidates\u001b[0m\u001b[1;33m)\u001b[0m\u001b[1;33m:\u001b[0m\u001b[1;33m\u001b[0m\u001b[1;33m\u001b[0m\u001b[0m\n\u001b[0;32m   1150\u001b[0m         \u001b[1;34m\"\"\"Search all candidates in param_grid\"\"\"\u001b[0m\u001b[1;33m\u001b[0m\u001b[1;33m\u001b[0m\u001b[0m\n\u001b[1;32m-> 1151\u001b[1;33m         \u001b[0mevaluate_candidates\u001b[0m\u001b[1;33m(\u001b[0m\u001b[0mParameterGrid\u001b[0m\u001b[1;33m(\u001b[0m\u001b[0mself\u001b[0m\u001b[1;33m.\u001b[0m\u001b[0mparam_grid\u001b[0m\u001b[1;33m)\u001b[0m\u001b[1;33m)\u001b[0m\u001b[1;33m\u001b[0m\u001b[1;33m\u001b[0m\u001b[0m\n\u001b[0m\u001b[0;32m   1152\u001b[0m \u001b[1;33m\u001b[0m\u001b[0m\n\u001b[0;32m   1153\u001b[0m \u001b[1;33m\u001b[0m\u001b[0m\n",
      "\u001b[1;32mC:\\ProgramData\\Anaconda3\\lib\\site-packages\\sklearn\\model_selection\\_search.py\u001b[0m in \u001b[0;36mevaluate_candidates\u001b[1;34m(candidate_params)\u001b[0m\n\u001b[0;32m    687\u001b[0m                                \u001b[1;32mfor\u001b[0m \u001b[0mparameters\u001b[0m\u001b[1;33m,\u001b[0m \u001b[1;33m(\u001b[0m\u001b[0mtrain\u001b[0m\u001b[1;33m,\u001b[0m \u001b[0mtest\u001b[0m\u001b[1;33m)\u001b[0m\u001b[1;33m\u001b[0m\u001b[1;33m\u001b[0m\u001b[0m\n\u001b[0;32m    688\u001b[0m                                in product(candidate_params,\n\u001b[1;32m--> 689\u001b[1;33m                                           cv.split(X, y, groups)))\n\u001b[0m\u001b[0;32m    690\u001b[0m \u001b[1;33m\u001b[0m\u001b[0m\n\u001b[0;32m    691\u001b[0m                 \u001b[1;32mif\u001b[0m \u001b[0mlen\u001b[0m\u001b[1;33m(\u001b[0m\u001b[0mout\u001b[0m\u001b[1;33m)\u001b[0m \u001b[1;33m<\u001b[0m \u001b[1;36m1\u001b[0m\u001b[1;33m:\u001b[0m\u001b[1;33m\u001b[0m\u001b[1;33m\u001b[0m\u001b[0m\n",
      "\u001b[1;32mC:\\ProgramData\\Anaconda3\\lib\\site-packages\\joblib\\parallel.py\u001b[0m in \u001b[0;36m__call__\u001b[1;34m(self, iterable)\u001b[0m\n\u001b[0;32m   1005\u001b[0m                 \u001b[0mself\u001b[0m\u001b[1;33m.\u001b[0m\u001b[0m_iterating\u001b[0m \u001b[1;33m=\u001b[0m \u001b[0mself\u001b[0m\u001b[1;33m.\u001b[0m\u001b[0m_original_iterator\u001b[0m \u001b[1;32mis\u001b[0m \u001b[1;32mnot\u001b[0m \u001b[1;32mNone\u001b[0m\u001b[1;33m\u001b[0m\u001b[1;33m\u001b[0m\u001b[0m\n\u001b[0;32m   1006\u001b[0m \u001b[1;33m\u001b[0m\u001b[0m\n\u001b[1;32m-> 1007\u001b[1;33m             \u001b[1;32mwhile\u001b[0m \u001b[0mself\u001b[0m\u001b[1;33m.\u001b[0m\u001b[0mdispatch_one_batch\u001b[0m\u001b[1;33m(\u001b[0m\u001b[0miterator\u001b[0m\u001b[1;33m)\u001b[0m\u001b[1;33m:\u001b[0m\u001b[1;33m\u001b[0m\u001b[1;33m\u001b[0m\u001b[0m\n\u001b[0m\u001b[0;32m   1008\u001b[0m                 \u001b[1;32mpass\u001b[0m\u001b[1;33m\u001b[0m\u001b[1;33m\u001b[0m\u001b[0m\n\u001b[0;32m   1009\u001b[0m \u001b[1;33m\u001b[0m\u001b[0m\n",
      "\u001b[1;32mC:\\ProgramData\\Anaconda3\\lib\\site-packages\\joblib\\parallel.py\u001b[0m in \u001b[0;36mdispatch_one_batch\u001b[1;34m(self, iterator)\u001b[0m\n\u001b[0;32m    833\u001b[0m                 \u001b[1;32mreturn\u001b[0m \u001b[1;32mFalse\u001b[0m\u001b[1;33m\u001b[0m\u001b[1;33m\u001b[0m\u001b[0m\n\u001b[0;32m    834\u001b[0m             \u001b[1;32melse\u001b[0m\u001b[1;33m:\u001b[0m\u001b[1;33m\u001b[0m\u001b[1;33m\u001b[0m\u001b[0m\n\u001b[1;32m--> 835\u001b[1;33m                 \u001b[0mself\u001b[0m\u001b[1;33m.\u001b[0m\u001b[0m_dispatch\u001b[0m\u001b[1;33m(\u001b[0m\u001b[0mtasks\u001b[0m\u001b[1;33m)\u001b[0m\u001b[1;33m\u001b[0m\u001b[1;33m\u001b[0m\u001b[0m\n\u001b[0m\u001b[0;32m    836\u001b[0m                 \u001b[1;32mreturn\u001b[0m \u001b[1;32mTrue\u001b[0m\u001b[1;33m\u001b[0m\u001b[1;33m\u001b[0m\u001b[0m\n\u001b[0;32m    837\u001b[0m \u001b[1;33m\u001b[0m\u001b[0m\n",
      "\u001b[1;32mC:\\ProgramData\\Anaconda3\\lib\\site-packages\\joblib\\parallel.py\u001b[0m in \u001b[0;36m_dispatch\u001b[1;34m(self, batch)\u001b[0m\n\u001b[0;32m    752\u001b[0m         \u001b[1;32mwith\u001b[0m \u001b[0mself\u001b[0m\u001b[1;33m.\u001b[0m\u001b[0m_lock\u001b[0m\u001b[1;33m:\u001b[0m\u001b[1;33m\u001b[0m\u001b[1;33m\u001b[0m\u001b[0m\n\u001b[0;32m    753\u001b[0m             \u001b[0mjob_idx\u001b[0m \u001b[1;33m=\u001b[0m \u001b[0mlen\u001b[0m\u001b[1;33m(\u001b[0m\u001b[0mself\u001b[0m\u001b[1;33m.\u001b[0m\u001b[0m_jobs\u001b[0m\u001b[1;33m)\u001b[0m\u001b[1;33m\u001b[0m\u001b[1;33m\u001b[0m\u001b[0m\n\u001b[1;32m--> 754\u001b[1;33m             \u001b[0mjob\u001b[0m \u001b[1;33m=\u001b[0m \u001b[0mself\u001b[0m\u001b[1;33m.\u001b[0m\u001b[0m_backend\u001b[0m\u001b[1;33m.\u001b[0m\u001b[0mapply_async\u001b[0m\u001b[1;33m(\u001b[0m\u001b[0mbatch\u001b[0m\u001b[1;33m,\u001b[0m \u001b[0mcallback\u001b[0m\u001b[1;33m=\u001b[0m\u001b[0mcb\u001b[0m\u001b[1;33m)\u001b[0m\u001b[1;33m\u001b[0m\u001b[1;33m\u001b[0m\u001b[0m\n\u001b[0m\u001b[0;32m    755\u001b[0m             \u001b[1;31m# A job can complete so quickly than its callback is\u001b[0m\u001b[1;33m\u001b[0m\u001b[1;33m\u001b[0m\u001b[1;33m\u001b[0m\u001b[0m\n\u001b[0;32m    756\u001b[0m             \u001b[1;31m# called before we get here, causing self._jobs to\u001b[0m\u001b[1;33m\u001b[0m\u001b[1;33m\u001b[0m\u001b[1;33m\u001b[0m\u001b[0m\n",
      "\u001b[1;32mC:\\ProgramData\\Anaconda3\\lib\\site-packages\\joblib\\_parallel_backends.py\u001b[0m in \u001b[0;36mapply_async\u001b[1;34m(self, func, callback)\u001b[0m\n\u001b[0;32m    207\u001b[0m     \u001b[1;32mdef\u001b[0m \u001b[0mapply_async\u001b[0m\u001b[1;33m(\u001b[0m\u001b[0mself\u001b[0m\u001b[1;33m,\u001b[0m \u001b[0mfunc\u001b[0m\u001b[1;33m,\u001b[0m \u001b[0mcallback\u001b[0m\u001b[1;33m=\u001b[0m\u001b[1;32mNone\u001b[0m\u001b[1;33m)\u001b[0m\u001b[1;33m:\u001b[0m\u001b[1;33m\u001b[0m\u001b[1;33m\u001b[0m\u001b[0m\n\u001b[0;32m    208\u001b[0m         \u001b[1;34m\"\"\"Schedule a func to be run\"\"\"\u001b[0m\u001b[1;33m\u001b[0m\u001b[1;33m\u001b[0m\u001b[0m\n\u001b[1;32m--> 209\u001b[1;33m         \u001b[0mresult\u001b[0m \u001b[1;33m=\u001b[0m \u001b[0mImmediateResult\u001b[0m\u001b[1;33m(\u001b[0m\u001b[0mfunc\u001b[0m\u001b[1;33m)\u001b[0m\u001b[1;33m\u001b[0m\u001b[1;33m\u001b[0m\u001b[0m\n\u001b[0m\u001b[0;32m    210\u001b[0m         \u001b[1;32mif\u001b[0m \u001b[0mcallback\u001b[0m\u001b[1;33m:\u001b[0m\u001b[1;33m\u001b[0m\u001b[1;33m\u001b[0m\u001b[0m\n\u001b[0;32m    211\u001b[0m             \u001b[0mcallback\u001b[0m\u001b[1;33m(\u001b[0m\u001b[0mresult\u001b[0m\u001b[1;33m)\u001b[0m\u001b[1;33m\u001b[0m\u001b[1;33m\u001b[0m\u001b[0m\n",
      "\u001b[1;32mC:\\ProgramData\\Anaconda3\\lib\\site-packages\\joblib\\_parallel_backends.py\u001b[0m in \u001b[0;36m__init__\u001b[1;34m(self, batch)\u001b[0m\n\u001b[0;32m    588\u001b[0m         \u001b[1;31m# Don't delay the application, to avoid keeping the input\u001b[0m\u001b[1;33m\u001b[0m\u001b[1;33m\u001b[0m\u001b[1;33m\u001b[0m\u001b[0m\n\u001b[0;32m    589\u001b[0m         \u001b[1;31m# arguments in memory\u001b[0m\u001b[1;33m\u001b[0m\u001b[1;33m\u001b[0m\u001b[1;33m\u001b[0m\u001b[0m\n\u001b[1;32m--> 590\u001b[1;33m         \u001b[0mself\u001b[0m\u001b[1;33m.\u001b[0m\u001b[0mresults\u001b[0m \u001b[1;33m=\u001b[0m \u001b[0mbatch\u001b[0m\u001b[1;33m(\u001b[0m\u001b[1;33m)\u001b[0m\u001b[1;33m\u001b[0m\u001b[1;33m\u001b[0m\u001b[0m\n\u001b[0m\u001b[0;32m    591\u001b[0m \u001b[1;33m\u001b[0m\u001b[0m\n\u001b[0;32m    592\u001b[0m     \u001b[1;32mdef\u001b[0m \u001b[0mget\u001b[0m\u001b[1;33m(\u001b[0m\u001b[0mself\u001b[0m\u001b[1;33m)\u001b[0m\u001b[1;33m:\u001b[0m\u001b[1;33m\u001b[0m\u001b[1;33m\u001b[0m\u001b[0m\n",
      "\u001b[1;32mC:\\ProgramData\\Anaconda3\\lib\\site-packages\\joblib\\parallel.py\u001b[0m in \u001b[0;36m__call__\u001b[1;34m(self)\u001b[0m\n\u001b[0;32m    254\u001b[0m         \u001b[1;32mwith\u001b[0m \u001b[0mparallel_backend\u001b[0m\u001b[1;33m(\u001b[0m\u001b[0mself\u001b[0m\u001b[1;33m.\u001b[0m\u001b[0m_backend\u001b[0m\u001b[1;33m,\u001b[0m \u001b[0mn_jobs\u001b[0m\u001b[1;33m=\u001b[0m\u001b[0mself\u001b[0m\u001b[1;33m.\u001b[0m\u001b[0m_n_jobs\u001b[0m\u001b[1;33m)\u001b[0m\u001b[1;33m:\u001b[0m\u001b[1;33m\u001b[0m\u001b[1;33m\u001b[0m\u001b[0m\n\u001b[0;32m    255\u001b[0m             return [func(*args, **kwargs)\n\u001b[1;32m--> 256\u001b[1;33m                     for func, args, kwargs in self.items]\n\u001b[0m\u001b[0;32m    257\u001b[0m \u001b[1;33m\u001b[0m\u001b[0m\n\u001b[0;32m    258\u001b[0m     \u001b[1;32mdef\u001b[0m \u001b[0m__len__\u001b[0m\u001b[1;33m(\u001b[0m\u001b[0mself\u001b[0m\u001b[1;33m)\u001b[0m\u001b[1;33m:\u001b[0m\u001b[1;33m\u001b[0m\u001b[1;33m\u001b[0m\u001b[0m\n",
      "\u001b[1;32mC:\\ProgramData\\Anaconda3\\lib\\site-packages\\joblib\\parallel.py\u001b[0m in \u001b[0;36m<listcomp>\u001b[1;34m(.0)\u001b[0m\n\u001b[0;32m    254\u001b[0m         \u001b[1;32mwith\u001b[0m \u001b[0mparallel_backend\u001b[0m\u001b[1;33m(\u001b[0m\u001b[0mself\u001b[0m\u001b[1;33m.\u001b[0m\u001b[0m_backend\u001b[0m\u001b[1;33m,\u001b[0m \u001b[0mn_jobs\u001b[0m\u001b[1;33m=\u001b[0m\u001b[0mself\u001b[0m\u001b[1;33m.\u001b[0m\u001b[0m_n_jobs\u001b[0m\u001b[1;33m)\u001b[0m\u001b[1;33m:\u001b[0m\u001b[1;33m\u001b[0m\u001b[1;33m\u001b[0m\u001b[0m\n\u001b[0;32m    255\u001b[0m             return [func(*args, **kwargs)\n\u001b[1;32m--> 256\u001b[1;33m                     for func, args, kwargs in self.items]\n\u001b[0m\u001b[0;32m    257\u001b[0m \u001b[1;33m\u001b[0m\u001b[0m\n\u001b[0;32m    258\u001b[0m     \u001b[1;32mdef\u001b[0m \u001b[0m__len__\u001b[0m\u001b[1;33m(\u001b[0m\u001b[0mself\u001b[0m\u001b[1;33m)\u001b[0m\u001b[1;33m:\u001b[0m\u001b[1;33m\u001b[0m\u001b[1;33m\u001b[0m\u001b[0m\n",
      "\u001b[1;32mC:\\ProgramData\\Anaconda3\\lib\\site-packages\\sklearn\\model_selection\\_validation.py\u001b[0m in \u001b[0;36m_fit_and_score\u001b[1;34m(estimator, X, y, scorer, train, test, verbose, parameters, fit_params, return_train_score, return_parameters, return_n_test_samples, return_times, return_estimator, error_score)\u001b[0m\n\u001b[0;32m    542\u001b[0m     \u001b[1;32melse\u001b[0m\u001b[1;33m:\u001b[0m\u001b[1;33m\u001b[0m\u001b[1;33m\u001b[0m\u001b[0m\n\u001b[0;32m    543\u001b[0m         \u001b[0mfit_time\u001b[0m \u001b[1;33m=\u001b[0m \u001b[0mtime\u001b[0m\u001b[1;33m.\u001b[0m\u001b[0mtime\u001b[0m\u001b[1;33m(\u001b[0m\u001b[1;33m)\u001b[0m \u001b[1;33m-\u001b[0m \u001b[0mstart_time\u001b[0m\u001b[1;33m\u001b[0m\u001b[1;33m\u001b[0m\u001b[0m\n\u001b[1;32m--> 544\u001b[1;33m         \u001b[0mtest_scores\u001b[0m \u001b[1;33m=\u001b[0m \u001b[0m_score\u001b[0m\u001b[1;33m(\u001b[0m\u001b[0mestimator\u001b[0m\u001b[1;33m,\u001b[0m \u001b[0mX_test\u001b[0m\u001b[1;33m,\u001b[0m \u001b[0my_test\u001b[0m\u001b[1;33m,\u001b[0m \u001b[0mscorer\u001b[0m\u001b[1;33m)\u001b[0m\u001b[1;33m\u001b[0m\u001b[1;33m\u001b[0m\u001b[0m\n\u001b[0m\u001b[0;32m    545\u001b[0m         \u001b[0mscore_time\u001b[0m \u001b[1;33m=\u001b[0m \u001b[0mtime\u001b[0m\u001b[1;33m.\u001b[0m\u001b[0mtime\u001b[0m\u001b[1;33m(\u001b[0m\u001b[1;33m)\u001b[0m \u001b[1;33m-\u001b[0m \u001b[0mstart_time\u001b[0m \u001b[1;33m-\u001b[0m \u001b[0mfit_time\u001b[0m\u001b[1;33m\u001b[0m\u001b[1;33m\u001b[0m\u001b[0m\n\u001b[0;32m    546\u001b[0m         \u001b[1;32mif\u001b[0m \u001b[0mreturn_train_score\u001b[0m\u001b[1;33m:\u001b[0m\u001b[1;33m\u001b[0m\u001b[1;33m\u001b[0m\u001b[0m\n",
      "\u001b[1;32mC:\\ProgramData\\Anaconda3\\lib\\site-packages\\sklearn\\model_selection\\_validation.py\u001b[0m in \u001b[0;36m_score\u001b[1;34m(estimator, X_test, y_test, scorer)\u001b[0m\n\u001b[0;32m    589\u001b[0m         \u001b[0mscores\u001b[0m \u001b[1;33m=\u001b[0m \u001b[0mscorer\u001b[0m\u001b[1;33m(\u001b[0m\u001b[0mestimator\u001b[0m\u001b[1;33m,\u001b[0m \u001b[0mX_test\u001b[0m\u001b[1;33m)\u001b[0m\u001b[1;33m\u001b[0m\u001b[1;33m\u001b[0m\u001b[0m\n\u001b[0;32m    590\u001b[0m     \u001b[1;32melse\u001b[0m\u001b[1;33m:\u001b[0m\u001b[1;33m\u001b[0m\u001b[1;33m\u001b[0m\u001b[0m\n\u001b[1;32m--> 591\u001b[1;33m         \u001b[0mscores\u001b[0m \u001b[1;33m=\u001b[0m \u001b[0mscorer\u001b[0m\u001b[1;33m(\u001b[0m\u001b[0mestimator\u001b[0m\u001b[1;33m,\u001b[0m \u001b[0mX_test\u001b[0m\u001b[1;33m,\u001b[0m \u001b[0my_test\u001b[0m\u001b[1;33m)\u001b[0m\u001b[1;33m\u001b[0m\u001b[1;33m\u001b[0m\u001b[0m\n\u001b[0m\u001b[0;32m    592\u001b[0m \u001b[1;33m\u001b[0m\u001b[0m\n\u001b[0;32m    593\u001b[0m     error_msg = (\"scoring must return a number, got %s (%s) \"\n",
      "\u001b[1;32mC:\\ProgramData\\Anaconda3\\lib\\site-packages\\sklearn\\metrics\\_scorer.py\u001b[0m in \u001b[0;36m__call__\u001b[1;34m(self, estimator, *args, **kwargs)\u001b[0m\n\u001b[0;32m     87\u001b[0m                                       *args, **kwargs)\n\u001b[0;32m     88\u001b[0m             \u001b[1;32melse\u001b[0m\u001b[1;33m:\u001b[0m\u001b[1;33m\u001b[0m\u001b[1;33m\u001b[0m\u001b[0m\n\u001b[1;32m---> 89\u001b[1;33m                 \u001b[0mscore\u001b[0m \u001b[1;33m=\u001b[0m \u001b[0mscorer\u001b[0m\u001b[1;33m(\u001b[0m\u001b[0mestimator\u001b[0m\u001b[1;33m,\u001b[0m \u001b[1;33m*\u001b[0m\u001b[0margs\u001b[0m\u001b[1;33m,\u001b[0m \u001b[1;33m**\u001b[0m\u001b[0mkwargs\u001b[0m\u001b[1;33m)\u001b[0m\u001b[1;33m\u001b[0m\u001b[1;33m\u001b[0m\u001b[0m\n\u001b[0m\u001b[0;32m     90\u001b[0m             \u001b[0mscores\u001b[0m\u001b[1;33m[\u001b[0m\u001b[0mname\u001b[0m\u001b[1;33m]\u001b[0m \u001b[1;33m=\u001b[0m \u001b[0mscore\u001b[0m\u001b[1;33m\u001b[0m\u001b[1;33m\u001b[0m\u001b[0m\n\u001b[0;32m     91\u001b[0m         \u001b[1;32mreturn\u001b[0m \u001b[0mscores\u001b[0m\u001b[1;33m\u001b[0m\u001b[1;33m\u001b[0m\u001b[0m\n",
      "\u001b[1;32mC:\\ProgramData\\Anaconda3\\lib\\site-packages\\sklearn\\metrics\\_scorer.py\u001b[0m in \u001b[0;36m_passthrough_scorer\u001b[1;34m(estimator, *args, **kwargs)\u001b[0m\n\u001b[0;32m    369\u001b[0m \u001b[1;32mdef\u001b[0m \u001b[0m_passthrough_scorer\u001b[0m\u001b[1;33m(\u001b[0m\u001b[0mestimator\u001b[0m\u001b[1;33m,\u001b[0m \u001b[1;33m*\u001b[0m\u001b[0margs\u001b[0m\u001b[1;33m,\u001b[0m \u001b[1;33m**\u001b[0m\u001b[0mkwargs\u001b[0m\u001b[1;33m)\u001b[0m\u001b[1;33m:\u001b[0m\u001b[1;33m\u001b[0m\u001b[1;33m\u001b[0m\u001b[0m\n\u001b[0;32m    370\u001b[0m     \u001b[1;34m\"\"\"Function that wraps estimator.score\"\"\"\u001b[0m\u001b[1;33m\u001b[0m\u001b[1;33m\u001b[0m\u001b[0m\n\u001b[1;32m--> 371\u001b[1;33m     \u001b[1;32mreturn\u001b[0m \u001b[0mestimator\u001b[0m\u001b[1;33m.\u001b[0m\u001b[0mscore\u001b[0m\u001b[1;33m(\u001b[0m\u001b[1;33m*\u001b[0m\u001b[0margs\u001b[0m\u001b[1;33m,\u001b[0m \u001b[1;33m**\u001b[0m\u001b[0mkwargs\u001b[0m\u001b[1;33m)\u001b[0m\u001b[1;33m\u001b[0m\u001b[1;33m\u001b[0m\u001b[0m\n\u001b[0m\u001b[0;32m    372\u001b[0m \u001b[1;33m\u001b[0m\u001b[0m\n\u001b[0;32m    373\u001b[0m \u001b[1;33m\u001b[0m\u001b[0m\n",
      "\u001b[1;32mC:\\ProgramData\\Anaconda3\\lib\\site-packages\\sklearn\\base.py\u001b[0m in \u001b[0;36mscore\u001b[1;34m(self, X, y, sample_weight)\u001b[0m\n\u001b[0;32m    367\u001b[0m         \"\"\"\n\u001b[0;32m    368\u001b[0m         \u001b[1;32mfrom\u001b[0m \u001b[1;33m.\u001b[0m\u001b[0mmetrics\u001b[0m \u001b[1;32mimport\u001b[0m \u001b[0maccuracy_score\u001b[0m\u001b[1;33m\u001b[0m\u001b[1;33m\u001b[0m\u001b[0m\n\u001b[1;32m--> 369\u001b[1;33m         \u001b[1;32mreturn\u001b[0m \u001b[0maccuracy_score\u001b[0m\u001b[1;33m(\u001b[0m\u001b[0my\u001b[0m\u001b[1;33m,\u001b[0m \u001b[0mself\u001b[0m\u001b[1;33m.\u001b[0m\u001b[0mpredict\u001b[0m\u001b[1;33m(\u001b[0m\u001b[0mX\u001b[0m\u001b[1;33m)\u001b[0m\u001b[1;33m,\u001b[0m \u001b[0msample_weight\u001b[0m\u001b[1;33m=\u001b[0m\u001b[0msample_weight\u001b[0m\u001b[1;33m)\u001b[0m\u001b[1;33m\u001b[0m\u001b[1;33m\u001b[0m\u001b[0m\n\u001b[0m\u001b[0;32m    370\u001b[0m \u001b[1;33m\u001b[0m\u001b[0m\n\u001b[0;32m    371\u001b[0m \u001b[1;33m\u001b[0m\u001b[0m\n",
      "\u001b[1;32mC:\\ProgramData\\Anaconda3\\lib\\site-packages\\sklearn\\neighbors\\_classification.py\u001b[0m in \u001b[0;36mpredict\u001b[1;34m(self, X)\u001b[0m\n\u001b[0;32m    185\u001b[0m         \u001b[1;32mfor\u001b[0m \u001b[0mk\u001b[0m\u001b[1;33m,\u001b[0m \u001b[0mclasses_k\u001b[0m \u001b[1;32min\u001b[0m \u001b[0menumerate\u001b[0m\u001b[1;33m(\u001b[0m\u001b[0mclasses_\u001b[0m\u001b[1;33m)\u001b[0m\u001b[1;33m:\u001b[0m\u001b[1;33m\u001b[0m\u001b[1;33m\u001b[0m\u001b[0m\n\u001b[0;32m    186\u001b[0m             \u001b[1;32mif\u001b[0m \u001b[0mweights\u001b[0m \u001b[1;32mis\u001b[0m \u001b[1;32mNone\u001b[0m\u001b[1;33m:\u001b[0m\u001b[1;33m\u001b[0m\u001b[1;33m\u001b[0m\u001b[0m\n\u001b[1;32m--> 187\u001b[1;33m                 \u001b[0mmode\u001b[0m\u001b[1;33m,\u001b[0m \u001b[0m_\u001b[0m \u001b[1;33m=\u001b[0m \u001b[0mstats\u001b[0m\u001b[1;33m.\u001b[0m\u001b[0mmode\u001b[0m\u001b[1;33m(\u001b[0m\u001b[0m_y\u001b[0m\u001b[1;33m[\u001b[0m\u001b[0mneigh_ind\u001b[0m\u001b[1;33m,\u001b[0m \u001b[0mk\u001b[0m\u001b[1;33m]\u001b[0m\u001b[1;33m,\u001b[0m \u001b[0maxis\u001b[0m\u001b[1;33m=\u001b[0m\u001b[1;36m1\u001b[0m\u001b[1;33m)\u001b[0m\u001b[1;33m\u001b[0m\u001b[1;33m\u001b[0m\u001b[0m\n\u001b[0m\u001b[0;32m    188\u001b[0m             \u001b[1;32melse\u001b[0m\u001b[1;33m:\u001b[0m\u001b[1;33m\u001b[0m\u001b[1;33m\u001b[0m\u001b[0m\n\u001b[0;32m    189\u001b[0m                 \u001b[0mmode\u001b[0m\u001b[1;33m,\u001b[0m \u001b[0m_\u001b[0m \u001b[1;33m=\u001b[0m \u001b[0mweighted_mode\u001b[0m\u001b[1;33m(\u001b[0m\u001b[0m_y\u001b[0m\u001b[1;33m[\u001b[0m\u001b[0mneigh_ind\u001b[0m\u001b[1;33m,\u001b[0m \u001b[0mk\u001b[0m\u001b[1;33m]\u001b[0m\u001b[1;33m,\u001b[0m \u001b[0mweights\u001b[0m\u001b[1;33m,\u001b[0m \u001b[0maxis\u001b[0m\u001b[1;33m=\u001b[0m\u001b[1;36m1\u001b[0m\u001b[1;33m)\u001b[0m\u001b[1;33m\u001b[0m\u001b[1;33m\u001b[0m\u001b[0m\n",
      "\u001b[1;32mC:\\ProgramData\\Anaconda3\\lib\\site-packages\\scipy\\stats\\stats.py\u001b[0m in \u001b[0;36mmode\u001b[1;34m(a, axis, nan_policy)\u001b[0m\n\u001b[0;32m    487\u001b[0m     \u001b[0mcounts\u001b[0m \u001b[1;33m=\u001b[0m \u001b[0mnp\u001b[0m\u001b[1;33m.\u001b[0m\u001b[0mzeros\u001b[0m\u001b[1;33m(\u001b[0m\u001b[0ma_view\u001b[0m\u001b[1;33m.\u001b[0m\u001b[0mshape\u001b[0m\u001b[1;33m[\u001b[0m\u001b[1;33m:\u001b[0m\u001b[1;33m-\u001b[0m\u001b[1;36m1\u001b[0m\u001b[1;33m]\u001b[0m\u001b[1;33m,\u001b[0m \u001b[0mdtype\u001b[0m\u001b[1;33m=\u001b[0m\u001b[0mnp\u001b[0m\u001b[1;33m.\u001b[0m\u001b[0mint\u001b[0m\u001b[1;33m)\u001b[0m\u001b[1;33m\u001b[0m\u001b[1;33m\u001b[0m\u001b[0m\n\u001b[0;32m    488\u001b[0m     \u001b[1;32mfor\u001b[0m \u001b[0mind\u001b[0m \u001b[1;32min\u001b[0m \u001b[0minds\u001b[0m\u001b[1;33m:\u001b[0m\u001b[1;33m\u001b[0m\u001b[1;33m\u001b[0m\u001b[0m\n\u001b[1;32m--> 489\u001b[1;33m         \u001b[0mmodes\u001b[0m\u001b[1;33m[\u001b[0m\u001b[0mind\u001b[0m\u001b[1;33m]\u001b[0m\u001b[1;33m,\u001b[0m \u001b[0mcounts\u001b[0m\u001b[1;33m[\u001b[0m\u001b[0mind\u001b[0m\u001b[1;33m]\u001b[0m \u001b[1;33m=\u001b[0m \u001b[0m_mode1D\u001b[0m\u001b[1;33m(\u001b[0m\u001b[0ma_view\u001b[0m\u001b[1;33m[\u001b[0m\u001b[0mind\u001b[0m\u001b[1;33m]\u001b[0m\u001b[1;33m)\u001b[0m\u001b[1;33m\u001b[0m\u001b[1;33m\u001b[0m\u001b[0m\n\u001b[0m\u001b[0;32m    490\u001b[0m     \u001b[0mnewshape\u001b[0m \u001b[1;33m=\u001b[0m \u001b[0mlist\u001b[0m\u001b[1;33m(\u001b[0m\u001b[0ma\u001b[0m\u001b[1;33m.\u001b[0m\u001b[0mshape\u001b[0m\u001b[1;33m)\u001b[0m\u001b[1;33m\u001b[0m\u001b[1;33m\u001b[0m\u001b[0m\n\u001b[0;32m    491\u001b[0m     \u001b[0mnewshape\u001b[0m\u001b[1;33m[\u001b[0m\u001b[0maxis\u001b[0m\u001b[1;33m]\u001b[0m \u001b[1;33m=\u001b[0m \u001b[1;36m1\u001b[0m\u001b[1;33m\u001b[0m\u001b[1;33m\u001b[0m\u001b[0m\n",
      "\u001b[1;32mC:\\ProgramData\\Anaconda3\\lib\\site-packages\\scipy\\stats\\stats.py\u001b[0m in \u001b[0;36m_mode1D\u001b[1;34m(a)\u001b[0m\n\u001b[0;32m    474\u001b[0m \u001b[1;33m\u001b[0m\u001b[0m\n\u001b[0;32m    475\u001b[0m     \u001b[1;32mdef\u001b[0m \u001b[0m_mode1D\u001b[0m\u001b[1;33m(\u001b[0m\u001b[0ma\u001b[0m\u001b[1;33m)\u001b[0m\u001b[1;33m:\u001b[0m\u001b[1;33m\u001b[0m\u001b[1;33m\u001b[0m\u001b[0m\n\u001b[1;32m--> 476\u001b[1;33m         \u001b[0mvals\u001b[0m\u001b[1;33m,\u001b[0m \u001b[0mcnts\u001b[0m \u001b[1;33m=\u001b[0m \u001b[0mnp\u001b[0m\u001b[1;33m.\u001b[0m\u001b[0munique\u001b[0m\u001b[1;33m(\u001b[0m\u001b[0ma\u001b[0m\u001b[1;33m,\u001b[0m \u001b[0mreturn_counts\u001b[0m\u001b[1;33m=\u001b[0m\u001b[1;32mTrue\u001b[0m\u001b[1;33m)\u001b[0m\u001b[1;33m\u001b[0m\u001b[1;33m\u001b[0m\u001b[0m\n\u001b[0m\u001b[0;32m    477\u001b[0m         \u001b[1;32mreturn\u001b[0m \u001b[0mvals\u001b[0m\u001b[1;33m[\u001b[0m\u001b[0mcnts\u001b[0m\u001b[1;33m.\u001b[0m\u001b[0margmax\u001b[0m\u001b[1;33m(\u001b[0m\u001b[1;33m)\u001b[0m\u001b[1;33m]\u001b[0m\u001b[1;33m,\u001b[0m \u001b[0mcnts\u001b[0m\u001b[1;33m.\u001b[0m\u001b[0mmax\u001b[0m\u001b[1;33m(\u001b[0m\u001b[1;33m)\u001b[0m\u001b[1;33m\u001b[0m\u001b[1;33m\u001b[0m\u001b[0m\n\u001b[0;32m    478\u001b[0m \u001b[1;33m\u001b[0m\u001b[0m\n",
      "\u001b[1;32m<__array_function__ internals>\u001b[0m in \u001b[0;36munique\u001b[1;34m(*args, **kwargs)\u001b[0m\n",
      "\u001b[1;32mC:\\ProgramData\\Anaconda3\\lib\\site-packages\\numpy\\lib\\arraysetops.py\u001b[0m in \u001b[0;36munique\u001b[1;34m(ar, return_index, return_inverse, return_counts, axis)\u001b[0m\n\u001b[0;32m    261\u001b[0m     \u001b[0mar\u001b[0m \u001b[1;33m=\u001b[0m \u001b[0mnp\u001b[0m\u001b[1;33m.\u001b[0m\u001b[0masanyarray\u001b[0m\u001b[1;33m(\u001b[0m\u001b[0mar\u001b[0m\u001b[1;33m)\u001b[0m\u001b[1;33m\u001b[0m\u001b[1;33m\u001b[0m\u001b[0m\n\u001b[0;32m    262\u001b[0m     \u001b[1;32mif\u001b[0m \u001b[0maxis\u001b[0m \u001b[1;32mis\u001b[0m \u001b[1;32mNone\u001b[0m\u001b[1;33m:\u001b[0m\u001b[1;33m\u001b[0m\u001b[1;33m\u001b[0m\u001b[0m\n\u001b[1;32m--> 263\u001b[1;33m         \u001b[0mret\u001b[0m \u001b[1;33m=\u001b[0m \u001b[0m_unique1d\u001b[0m\u001b[1;33m(\u001b[0m\u001b[0mar\u001b[0m\u001b[1;33m,\u001b[0m \u001b[0mreturn_index\u001b[0m\u001b[1;33m,\u001b[0m \u001b[0mreturn_inverse\u001b[0m\u001b[1;33m,\u001b[0m \u001b[0mreturn_counts\u001b[0m\u001b[1;33m)\u001b[0m\u001b[1;33m\u001b[0m\u001b[1;33m\u001b[0m\u001b[0m\n\u001b[0m\u001b[0;32m    264\u001b[0m         \u001b[1;32mreturn\u001b[0m \u001b[0m_unpack_tuple\u001b[0m\u001b[1;33m(\u001b[0m\u001b[0mret\u001b[0m\u001b[1;33m)\u001b[0m\u001b[1;33m\u001b[0m\u001b[1;33m\u001b[0m\u001b[0m\n\u001b[0;32m    265\u001b[0m \u001b[1;33m\u001b[0m\u001b[0m\n",
      "\u001b[1;32mC:\\ProgramData\\Anaconda3\\lib\\site-packages\\numpy\\lib\\arraysetops.py\u001b[0m in \u001b[0;36m_unique1d\u001b[1;34m(ar, return_index, return_inverse, return_counts)\u001b[0m\n\u001b[0;32m    309\u001b[0m         \u001b[0maux\u001b[0m \u001b[1;33m=\u001b[0m \u001b[0mar\u001b[0m\u001b[1;33m[\u001b[0m\u001b[0mperm\u001b[0m\u001b[1;33m]\u001b[0m\u001b[1;33m\u001b[0m\u001b[1;33m\u001b[0m\u001b[0m\n\u001b[0;32m    310\u001b[0m     \u001b[1;32melse\u001b[0m\u001b[1;33m:\u001b[0m\u001b[1;33m\u001b[0m\u001b[1;33m\u001b[0m\u001b[0m\n\u001b[1;32m--> 311\u001b[1;33m         \u001b[0mar\u001b[0m\u001b[1;33m.\u001b[0m\u001b[0msort\u001b[0m\u001b[1;33m(\u001b[0m\u001b[1;33m)\u001b[0m\u001b[1;33m\u001b[0m\u001b[1;33m\u001b[0m\u001b[0m\n\u001b[0m\u001b[0;32m    312\u001b[0m         \u001b[0maux\u001b[0m \u001b[1;33m=\u001b[0m \u001b[0mar\u001b[0m\u001b[1;33m\u001b[0m\u001b[1;33m\u001b[0m\u001b[0m\n\u001b[0;32m    313\u001b[0m     \u001b[0mmask\u001b[0m \u001b[1;33m=\u001b[0m \u001b[0mnp\u001b[0m\u001b[1;33m.\u001b[0m\u001b[0mempty\u001b[0m\u001b[1;33m(\u001b[0m\u001b[0maux\u001b[0m\u001b[1;33m.\u001b[0m\u001b[0mshape\u001b[0m\u001b[1;33m,\u001b[0m \u001b[0mdtype\u001b[0m\u001b[1;33m=\u001b[0m\u001b[0mnp\u001b[0m\u001b[1;33m.\u001b[0m\u001b[0mbool_\u001b[0m\u001b[1;33m)\u001b[0m\u001b[1;33m\u001b[0m\u001b[1;33m\u001b[0m\u001b[0m\n",
      "\u001b[1;31mKeyboardInterrupt\u001b[0m: "
     ]
    }
   ],
   "source": [
    "gridsearch.fit(x_test,y_test_encoded)"
   ]
  },
  {
   "cell_type": "code",
   "execution_count": 86,
   "metadata": {},
   "outputs": [
    {
     "ename": "AttributeError",
     "evalue": "'GridSearchCV' object has no attribute 'best_params_'",
     "output_type": "error",
     "traceback": [
      "\u001b[1;31m---------------------------------------------------------------------------\u001b[0m",
      "\u001b[1;31mAttributeError\u001b[0m                            Traceback (most recent call last)",
      "\u001b[1;32m<ipython-input-86-5bbd8843bc3f>\u001b[0m in \u001b[0;36m<module>\u001b[1;34m\u001b[0m\n\u001b[1;32m----> 1\u001b[1;33m \u001b[0mgridsearch\u001b[0m\u001b[1;33m.\u001b[0m\u001b[0mbest_params_\u001b[0m\u001b[1;33m\u001b[0m\u001b[1;33m\u001b[0m\u001b[0m\n\u001b[0m",
      "\u001b[1;31mAttributeError\u001b[0m: 'GridSearchCV' object has no attribute 'best_params_'"
     ]
    }
   ],
   "source": [
    "gridsearch.best_params_"
   ]
  },
  {
   "cell_type": "code",
   "execution_count": 87,
   "metadata": {},
   "outputs": [],
   "source": [
    "knn = KNeighborsClassifier(algorithm= 'ball_tree', leaf_size=18, n_neighbors= 3)"
   ]
  },
  {
   "cell_type": "code",
   "execution_count": 88,
   "metadata": {},
   "outputs": [
    {
     "data": {
      "text/plain": [
       "KNeighborsClassifier(algorithm='ball_tree', leaf_size=18, metric='minkowski',\n",
       "                     metric_params=None, n_jobs=None, n_neighbors=3, p=2,\n",
       "                     weights='uniform')"
      ]
     },
     "execution_count": 88,
     "metadata": {},
     "output_type": "execute_result"
    }
   ],
   "source": [
    "knn.fit(x_train,training_scores_encoded)"
   ]
  },
  {
   "cell_type": "code",
   "execution_count": 90,
   "metadata": {},
   "outputs": [
    {
     "data": {
      "text/plain": [
       "0.013543210507487096"
      ]
     },
     "execution_count": 90,
     "metadata": {},
     "output_type": "execute_result"
    }
   ],
   "source": [
    "knn.score(x_test,y_test_encoded)"
   ]
  },
  {
   "cell_type": "code",
   "execution_count": null,
   "metadata": {},
   "outputs": [],
   "source": []
  },
  {
   "cell_type": "code",
   "execution_count": 60,
   "metadata": {},
   "outputs": [
    {
     "data": {
      "text/html": [
       "<div>\n",
       "<style scoped>\n",
       "    .dataframe tbody tr th:only-of-type {\n",
       "        vertical-align: middle;\n",
       "    }\n",
       "\n",
       "    .dataframe tbody tr th {\n",
       "        vertical-align: top;\n",
       "    }\n",
       "\n",
       "    .dataframe thead th {\n",
       "        text-align: right;\n",
       "    }\n",
       "</style>\n",
       "<table border=\"1\" class=\"dataframe\">\n",
       "  <thead>\n",
       "    <tr style=\"text-align: right;\">\n",
       "      <th></th>\n",
       "      <th>company</th>\n",
       "      <th>id</th>\n",
       "      <th>data</th>\n",
       "    </tr>\n",
       "  </thead>\n",
       "  <tbody>\n",
       "    <tr>\n",
       "      <th>431</th>\n",
       "      <td>Talwalkars Better Value Fitness Limited</td>\n",
       "      <td>TALWALKARS</td>\n",
       "      <td>nse_TT</td>\n",
       "    </tr>\n",
       "    <tr>\n",
       "      <th>432</th>\n",
       "      <td>Tanla Solutions Limited</td>\n",
       "      <td>TANLA</td>\n",
       "      <td>nse_TT</td>\n",
       "    </tr>\n",
       "    <tr>\n",
       "      <th>433</th>\n",
       "      <td>Tata Chemicals Limited</td>\n",
       "      <td>TATACHEM</td>\n",
       "      <td>nse_TT</td>\n",
       "    </tr>\n",
       "    <tr>\n",
       "      <th>434</th>\n",
       "      <td>Tata Coffee Limited</td>\n",
       "      <td>TATACOFFEE</td>\n",
       "      <td>nse_TT</td>\n",
       "    </tr>\n",
       "    <tr>\n",
       "      <th>435</th>\n",
       "      <td>Tata Communications Limited</td>\n",
       "      <td>TATACOMM</td>\n",
       "      <td>nse_TT</td>\n",
       "    </tr>\n",
       "    <tr>\n",
       "      <th>436</th>\n",
       "      <td>Tata Elxsi</td>\n",
       "      <td>TATAELXSI</td>\n",
       "      <td>nse_TT</td>\n",
       "    </tr>\n",
       "    <tr>\n",
       "      <th>437</th>\n",
       "      <td>Tata Global Beverage</td>\n",
       "      <td>TATAGLOBAL</td>\n",
       "      <td>nse_TT</td>\n",
       "    </tr>\n",
       "    <tr>\n",
       "      <th>438</th>\n",
       "      <td>Tata Metaliks</td>\n",
       "      <td>TATAMETALI</td>\n",
       "      <td>nse_TT</td>\n",
       "    </tr>\n",
       "    <tr>\n",
       "      <th>439</th>\n",
       "      <td>Tata Motors</td>\n",
       "      <td>TATAMOTORS</td>\n",
       "      <td>nse_TT</td>\n",
       "    </tr>\n",
       "    <tr>\n",
       "      <th>441</th>\n",
       "      <td>Tata Power Company</td>\n",
       "      <td>TATAPOWER</td>\n",
       "      <td>nse_TT</td>\n",
       "    </tr>\n",
       "    <tr>\n",
       "      <th>442</th>\n",
       "      <td>Tata Sponge Iron</td>\n",
       "      <td>TATASPONGE</td>\n",
       "      <td>nse_TT</td>\n",
       "    </tr>\n",
       "    <tr>\n",
       "      <th>443</th>\n",
       "      <td>Tata Steel</td>\n",
       "      <td>TATASTEEL</td>\n",
       "      <td>nse_TT</td>\n",
       "    </tr>\n",
       "    <tr>\n",
       "      <th>444</th>\n",
       "      <td>Transport Corporation Of India Limited</td>\n",
       "      <td>TCI</td>\n",
       "      <td>nse_TT</td>\n",
       "    </tr>\n",
       "    <tr>\n",
       "      <th>445</th>\n",
       "      <td>Tata Consultancy Services Limited</td>\n",
       "      <td>TCS</td>\n",
       "      <td>nse_TT</td>\n",
       "    </tr>\n",
       "    <tr>\n",
       "      <th>446</th>\n",
       "      <td>Tech Mahindra Limited</td>\n",
       "      <td>TECHM</td>\n",
       "      <td>nse_TT</td>\n",
       "    </tr>\n",
       "    <tr>\n",
       "      <th>447</th>\n",
       "      <td>Texmaco Rail and Engineering</td>\n",
       "      <td>TEXRAIL</td>\n",
       "      <td>nse_TT</td>\n",
       "    </tr>\n",
       "    <tr>\n",
       "      <th>448</th>\n",
       "      <td>Tourism Finance Corporation Of India Limited</td>\n",
       "      <td>TFCILTD</td>\n",
       "      <td>nse_TT</td>\n",
       "    </tr>\n",
       "    <tr>\n",
       "      <th>449</th>\n",
       "      <td>The Byke Hospitality</td>\n",
       "      <td>THEBYKE</td>\n",
       "      <td>nse_TT</td>\n",
       "    </tr>\n",
       "    <tr>\n",
       "      <th>450</th>\n",
       "      <td>Thermax Limited</td>\n",
       "      <td>THERMAX</td>\n",
       "      <td>nse_TT</td>\n",
       "    </tr>\n",
       "    <tr>\n",
       "      <th>451</th>\n",
       "      <td>Tilaknagar Industries</td>\n",
       "      <td>TI</td>\n",
       "      <td>nse_TT</td>\n",
       "    </tr>\n",
       "    <tr>\n",
       "      <th>453</th>\n",
       "      <td>Timken India Limited</td>\n",
       "      <td>TIMKEN</td>\n",
       "      <td>nse_TT</td>\n",
       "    </tr>\n",
       "    <tr>\n",
       "      <th>454</th>\n",
       "      <td>Titan Industries Limited</td>\n",
       "      <td>TITAN</td>\n",
       "      <td>nse_TT</td>\n",
       "    </tr>\n",
       "    <tr>\n",
       "      <th>455</th>\n",
       "      <td>Torrent Pharmaceuticals Limited</td>\n",
       "      <td>TORNTPHARM</td>\n",
       "      <td>nse_TT</td>\n",
       "    </tr>\n",
       "    <tr>\n",
       "      <th>456</th>\n",
       "      <td>Torrent Power Limited</td>\n",
       "      <td>TORNTPOWER</td>\n",
       "      <td>nse_TT</td>\n",
       "    </tr>\n",
       "    <tr>\n",
       "      <th>457</th>\n",
       "      <td>Tree House Education and Accessories</td>\n",
       "      <td>TREEHOUSE</td>\n",
       "      <td>nse_TT</td>\n",
       "    </tr>\n",
       "    <tr>\n",
       "      <th>458</th>\n",
       "      <td>Trent Limited</td>\n",
       "      <td>TRENT</td>\n",
       "      <td>nse_TT</td>\n",
       "    </tr>\n",
       "    <tr>\n",
       "      <th>459</th>\n",
       "      <td>Tata Teleservices</td>\n",
       "      <td>TTML</td>\n",
       "      <td>nse_TT</td>\n",
       "    </tr>\n",
       "    <tr>\n",
       "      <th>460</th>\n",
       "      <td>TV18 Broadcast</td>\n",
       "      <td>TV18BRDCST</td>\n",
       "      <td>nse_TT</td>\n",
       "    </tr>\n",
       "    <tr>\n",
       "      <th>461</th>\n",
       "      <td>T V S Motor Company Limited</td>\n",
       "      <td>TVSMOTOR</td>\n",
       "      <td>nse_TT</td>\n",
       "    </tr>\n",
       "    <tr>\n",
       "      <th>462</th>\n",
       "      <td>T V Today Network Limited</td>\n",
       "      <td>TVTODAY</td>\n",
       "      <td>nse_TT</td>\n",
       "    </tr>\n",
       "    <tr>\n",
       "      <th>463</th>\n",
       "      <td>Titagarh Wagons Limited</td>\n",
       "      <td>TWL</td>\n",
       "      <td>nse_TT</td>\n",
       "    </tr>\n",
       "  </tbody>\n",
       "</table>\n",
       "</div>"
      ],
      "text/plain": [
       "                                          company          id    data\n",
       "431       Talwalkars Better Value Fitness Limited  TALWALKARS  nse_TT\n",
       "432                       Tanla Solutions Limited       TANLA  nse_TT\n",
       "433                        Tata Chemicals Limited    TATACHEM  nse_TT\n",
       "434                           Tata Coffee Limited  TATACOFFEE  nse_TT\n",
       "435                   Tata Communications Limited    TATACOMM  nse_TT\n",
       "436                                    Tata Elxsi   TATAELXSI  nse_TT\n",
       "437                          Tata Global Beverage  TATAGLOBAL  nse_TT\n",
       "438                                 Tata Metaliks  TATAMETALI  nse_TT\n",
       "439                                   Tata Motors  TATAMOTORS  nse_TT\n",
       "441                            Tata Power Company   TATAPOWER  nse_TT\n",
       "442                              Tata Sponge Iron  TATASPONGE  nse_TT\n",
       "443                                    Tata Steel   TATASTEEL  nse_TT\n",
       "444        Transport Corporation Of India Limited         TCI  nse_TT\n",
       "445             Tata Consultancy Services Limited         TCS  nse_TT\n",
       "446                         Tech Mahindra Limited       TECHM  nse_TT\n",
       "447                  Texmaco Rail and Engineering     TEXRAIL  nse_TT\n",
       "448  Tourism Finance Corporation Of India Limited     TFCILTD  nse_TT\n",
       "449                          The Byke Hospitality     THEBYKE  nse_TT\n",
       "450                               Thermax Limited     THERMAX  nse_TT\n",
       "451                         Tilaknagar Industries          TI  nse_TT\n",
       "453                          Timken India Limited      TIMKEN  nse_TT\n",
       "454                      Titan Industries Limited       TITAN  nse_TT\n",
       "455               Torrent Pharmaceuticals Limited  TORNTPHARM  nse_TT\n",
       "456                         Torrent Power Limited  TORNTPOWER  nse_TT\n",
       "457          Tree House Education and Accessories   TREEHOUSE  nse_TT\n",
       "458                                 Trent Limited       TRENT  nse_TT\n",
       "459                             Tata Teleservices        TTML  nse_TT\n",
       "460                                TV18 Broadcast  TV18BRDCST  nse_TT\n",
       "461                   T V S Motor Company Limited    TVSMOTOR  nse_TT\n",
       "462                     T V Today Network Limited     TVTODAY  nse_TT\n",
       "463                       Titagarh Wagons Limited         TWL  nse_TT"
      ]
     },
     "execution_count": 60,
     "metadata": {},
     "output_type": "execute_result"
    }
   ],
   "source": [
    "cmp_list.loc[cmp_list['data']=='nse_TT']"
   ]
  },
  {
   "cell_type": "code",
   "execution_count": 66,
   "metadata": {},
   "outputs": [],
   "source": [
    "file = pyreadr.read_r('data/nse_TT.RData')\n",
    "nseTT = file['nse_TT']"
   ]
  },
  {
   "cell_type": "code",
   "execution_count": 132,
   "metadata": {},
   "outputs": [],
   "source": [
    "TCS = nseTT.loc[nseTT['id']=='TCS']"
   ]
  },
  {
   "cell_type": "code",
   "execution_count": 133,
   "metadata": {},
   "outputs": [
    {
     "data": {
      "text/html": [
       "<div>\n",
       "<style scoped>\n",
       "    .dataframe tbody tr th:only-of-type {\n",
       "        vertical-align: middle;\n",
       "    }\n",
       "\n",
       "    .dataframe tbody tr th {\n",
       "        vertical-align: top;\n",
       "    }\n",
       "\n",
       "    .dataframe thead th {\n",
       "        text-align: right;\n",
       "    }\n",
       "</style>\n",
       "<table border=\"1\" class=\"dataframe\">\n",
       "  <thead>\n",
       "    <tr style=\"text-align: right;\">\n",
       "      <th></th>\n",
       "      <th>id</th>\n",
       "      <th>date</th>\n",
       "      <th>time</th>\n",
       "      <th>open</th>\n",
       "      <th>high</th>\n",
       "      <th>low</th>\n",
       "      <th>close</th>\n",
       "      <th>volume</th>\n",
       "    </tr>\n",
       "  </thead>\n",
       "  <tbody>\n",
       "    <tr>\n",
       "      <th>920595</th>\n",
       "      <td>TCS</td>\n",
       "      <td>20150703</td>\n",
       "      <td>09:16:00</td>\n",
       "      <td>2571.40</td>\n",
       "      <td>2575.90</td>\n",
       "      <td>2571.40</td>\n",
       "      <td>2575.70</td>\n",
       "      <td>3220</td>\n",
       "    </tr>\n",
       "    <tr>\n",
       "      <th>920596</th>\n",
       "      <td>TCS</td>\n",
       "      <td>20150703</td>\n",
       "      <td>09:17:00</td>\n",
       "      <td>2575.00</td>\n",
       "      <td>2575.50</td>\n",
       "      <td>2570.00</td>\n",
       "      <td>2571.75</td>\n",
       "      <td>4946</td>\n",
       "    </tr>\n",
       "    <tr>\n",
       "      <th>920597</th>\n",
       "      <td>TCS</td>\n",
       "      <td>20150703</td>\n",
       "      <td>09:18:00</td>\n",
       "      <td>2571.95</td>\n",
       "      <td>2577.05</td>\n",
       "      <td>2571.95</td>\n",
       "      <td>2577.00</td>\n",
       "      <td>5056</td>\n",
       "    </tr>\n",
       "    <tr>\n",
       "      <th>920598</th>\n",
       "      <td>TCS</td>\n",
       "      <td>20150703</td>\n",
       "      <td>09:19:00</td>\n",
       "      <td>2577.65</td>\n",
       "      <td>2582.80</td>\n",
       "      <td>2577.05</td>\n",
       "      <td>2582.30</td>\n",
       "      <td>4434</td>\n",
       "    </tr>\n",
       "    <tr>\n",
       "      <th>920599</th>\n",
       "      <td>TCS</td>\n",
       "      <td>20150703</td>\n",
       "      <td>09:20:00</td>\n",
       "      <td>2581.20</td>\n",
       "      <td>2582.65</td>\n",
       "      <td>2579.85</td>\n",
       "      <td>2580.60</td>\n",
       "      <td>3291</td>\n",
       "    </tr>\n",
       "  </tbody>\n",
       "</table>\n",
       "</div>"
      ],
      "text/plain": [
       "         id      date      time     open     high      low    close  volume\n",
       "920595  TCS  20150703  09:16:00  2571.40  2575.90  2571.40  2575.70    3220\n",
       "920596  TCS  20150703  09:17:00  2575.00  2575.50  2570.00  2571.75    4946\n",
       "920597  TCS  20150703  09:18:00  2571.95  2577.05  2571.95  2577.00    5056\n",
       "920598  TCS  20150703  09:19:00  2577.65  2582.80  2577.05  2582.30    4434\n",
       "920599  TCS  20150703  09:20:00  2581.20  2582.65  2579.85  2580.60    3291"
      ]
     },
     "execution_count": 133,
     "metadata": {},
     "output_type": "execute_result"
    }
   ],
   "source": [
    "TCS.head()"
   ]
  },
  {
   "cell_type": "code",
   "execution_count": 137,
   "metadata": {},
   "outputs": [],
   "source": [
    "def dataCleaner(symbol):\n",
    "    symbol2=symbol.copy()\n",
    "    symbol2['NewDate'] =  pd.to_datetime(symbol2['date'].astype(str),format='%Y%m%d')\n",
    "    symbol2= symbol2.drop('date',axis=1)\n",
    "    symbol2['Day'] = pd.to_datetime(symbol2['NewDate']).dt.day\n",
    "    symbol2['Month'] = pd.to_datetime(symbol2['NewDate']).dt.month\n",
    "    symbol2['Year'] = pd.to_datetime(symbol2['NewDate']).dt.year\n",
    "    symbol2 = symbol2.drop('NewDate',axis=1)\n",
    "    symbol2[['hour','min','sec']] = symbol2['time'].astype(str).str.split(':', expand=True).astype(int)\n",
    "    symbol2 =symbol2.drop('time',axis=1)\n",
    "    return symbol2"
   ]
  },
  {
   "cell_type": "code",
   "execution_count": 140,
   "metadata": {},
   "outputs": [],
   "source": [
    "TCS = dataCleaner(TCS)"
   ]
  },
  {
   "cell_type": "code",
   "execution_count": 141,
   "metadata": {},
   "outputs": [
    {
     "data": {
      "text/html": [
       "<div>\n",
       "<style scoped>\n",
       "    .dataframe tbody tr th:only-of-type {\n",
       "        vertical-align: middle;\n",
       "    }\n",
       "\n",
       "    .dataframe tbody tr th {\n",
       "        vertical-align: top;\n",
       "    }\n",
       "\n",
       "    .dataframe thead th {\n",
       "        text-align: right;\n",
       "    }\n",
       "</style>\n",
       "<table border=\"1\" class=\"dataframe\">\n",
       "  <thead>\n",
       "    <tr style=\"text-align: right;\">\n",
       "      <th></th>\n",
       "      <th>id</th>\n",
       "      <th>open</th>\n",
       "      <th>high</th>\n",
       "      <th>low</th>\n",
       "      <th>close</th>\n",
       "      <th>volume</th>\n",
       "      <th>Day</th>\n",
       "      <th>Month</th>\n",
       "      <th>Year</th>\n",
       "      <th>hour</th>\n",
       "      <th>min</th>\n",
       "      <th>sec</th>\n",
       "    </tr>\n",
       "  </thead>\n",
       "  <tbody>\n",
       "    <tr>\n",
       "      <th>920595</th>\n",
       "      <td>TCS</td>\n",
       "      <td>2571.40</td>\n",
       "      <td>2575.90</td>\n",
       "      <td>2571.40</td>\n",
       "      <td>2575.70</td>\n",
       "      <td>3220</td>\n",
       "      <td>3</td>\n",
       "      <td>7</td>\n",
       "      <td>2015</td>\n",
       "      <td>9</td>\n",
       "      <td>16</td>\n",
       "      <td>0</td>\n",
       "    </tr>\n",
       "    <tr>\n",
       "      <th>920596</th>\n",
       "      <td>TCS</td>\n",
       "      <td>2575.00</td>\n",
       "      <td>2575.50</td>\n",
       "      <td>2570.00</td>\n",
       "      <td>2571.75</td>\n",
       "      <td>4946</td>\n",
       "      <td>3</td>\n",
       "      <td>7</td>\n",
       "      <td>2015</td>\n",
       "      <td>9</td>\n",
       "      <td>17</td>\n",
       "      <td>0</td>\n",
       "    </tr>\n",
       "    <tr>\n",
       "      <th>920597</th>\n",
       "      <td>TCS</td>\n",
       "      <td>2571.95</td>\n",
       "      <td>2577.05</td>\n",
       "      <td>2571.95</td>\n",
       "      <td>2577.00</td>\n",
       "      <td>5056</td>\n",
       "      <td>3</td>\n",
       "      <td>7</td>\n",
       "      <td>2015</td>\n",
       "      <td>9</td>\n",
       "      <td>18</td>\n",
       "      <td>0</td>\n",
       "    </tr>\n",
       "    <tr>\n",
       "      <th>920598</th>\n",
       "      <td>TCS</td>\n",
       "      <td>2577.65</td>\n",
       "      <td>2582.80</td>\n",
       "      <td>2577.05</td>\n",
       "      <td>2582.30</td>\n",
       "      <td>4434</td>\n",
       "      <td>3</td>\n",
       "      <td>7</td>\n",
       "      <td>2015</td>\n",
       "      <td>9</td>\n",
       "      <td>19</td>\n",
       "      <td>0</td>\n",
       "    </tr>\n",
       "    <tr>\n",
       "      <th>920599</th>\n",
       "      <td>TCS</td>\n",
       "      <td>2581.20</td>\n",
       "      <td>2582.65</td>\n",
       "      <td>2579.85</td>\n",
       "      <td>2580.60</td>\n",
       "      <td>3291</td>\n",
       "      <td>3</td>\n",
       "      <td>7</td>\n",
       "      <td>2015</td>\n",
       "      <td>9</td>\n",
       "      <td>20</td>\n",
       "      <td>0</td>\n",
       "    </tr>\n",
       "  </tbody>\n",
       "</table>\n",
       "</div>"
      ],
      "text/plain": [
       "         id     open     high      low    close  volume  Day  Month  Year  \\\n",
       "920595  TCS  2571.40  2575.90  2571.40  2575.70    3220    3      7  2015   \n",
       "920596  TCS  2575.00  2575.50  2570.00  2571.75    4946    3      7  2015   \n",
       "920597  TCS  2571.95  2577.05  2571.95  2577.00    5056    3      7  2015   \n",
       "920598  TCS  2577.65  2582.80  2577.05  2582.30    4434    3      7  2015   \n",
       "920599  TCS  2581.20  2582.65  2579.85  2580.60    3291    3      7  2015   \n",
       "\n",
       "        hour  min  sec  \n",
       "920595     9   16    0  \n",
       "920596     9   17    0  \n",
       "920597     9   18    0  \n",
       "920598     9   19    0  \n",
       "920599     9   20    0  "
      ]
     },
     "execution_count": 141,
     "metadata": {},
     "output_type": "execute_result"
    }
   ],
   "source": [
    "TCS.head()"
   ]
  },
  {
   "cell_type": "code",
   "execution_count": 123,
   "metadata": {},
   "outputs": [],
   "source": [
    "#symbol2"
   ]
  },
  {
   "cell_type": "code",
   "execution_count": 79,
   "metadata": {},
   "outputs": [],
   "source": [
    "TCS['NewDate'] =  pd.to_datetime(TCS['date'].astype(str),format='%Y%m%d')\n",
    "TCS= TCS.drop('date',axis=1)\n",
    "TCS['Day'] = pd.to_datetime(TCS['NewDate']).dt.day\n",
    "TCS['Month'] = pd.to_datetime(TCS['NewDate']).dt.month\n",
    "TCS['Year'] = pd.to_datetime(TCS['NewDate']).dt.year\n",
    "TCS = TCS.drop('NewDate',axis=1)\n",
    "TCS[['hour','min','sec']] = TCS['time'].astype(str).str.split(':', expand=True).astype(int)\n",
    "TCS =TCS.drop('time',axis=1)"
   ]
  },
  {
   "cell_type": "code",
   "execution_count": 77,
   "metadata": {},
   "outputs": [
    {
     "data": {
      "text/html": [
       "<div>\n",
       "<style scoped>\n",
       "    .dataframe tbody tr th:only-of-type {\n",
       "        vertical-align: middle;\n",
       "    }\n",
       "\n",
       "    .dataframe tbody tr th {\n",
       "        vertical-align: top;\n",
       "    }\n",
       "\n",
       "    .dataframe thead th {\n",
       "        text-align: right;\n",
       "    }\n",
       "</style>\n",
       "<table border=\"1\" class=\"dataframe\">\n",
       "  <thead>\n",
       "    <tr style=\"text-align: right;\">\n",
       "      <th></th>\n",
       "      <th>id</th>\n",
       "      <th>open</th>\n",
       "      <th>high</th>\n",
       "      <th>low</th>\n",
       "      <th>close</th>\n",
       "      <th>volume</th>\n",
       "      <th>Day</th>\n",
       "      <th>Month</th>\n",
       "      <th>Year</th>\n",
       "      <th>hour</th>\n",
       "      <th>min</th>\n",
       "      <th>sec</th>\n",
       "    </tr>\n",
       "  </thead>\n",
       "  <tbody>\n",
       "    <tr>\n",
       "      <th>1003140</th>\n",
       "      <td>ALBK</td>\n",
       "      <td>88.00</td>\n",
       "      <td>88.3</td>\n",
       "      <td>87.65</td>\n",
       "      <td>88.20</td>\n",
       "      <td>7897</td>\n",
       "      <td>3</td>\n",
       "      <td>7</td>\n",
       "      <td>2015</td>\n",
       "      <td>9</td>\n",
       "      <td>16</td>\n",
       "      <td>0</td>\n",
       "    </tr>\n",
       "    <tr>\n",
       "      <th>1003141</th>\n",
       "      <td>ALBK</td>\n",
       "      <td>88.20</td>\n",
       "      <td>88.2</td>\n",
       "      <td>88.00</td>\n",
       "      <td>88.10</td>\n",
       "      <td>6091</td>\n",
       "      <td>3</td>\n",
       "      <td>7</td>\n",
       "      <td>2015</td>\n",
       "      <td>9</td>\n",
       "      <td>17</td>\n",
       "      <td>0</td>\n",
       "    </tr>\n",
       "    <tr>\n",
       "      <th>1003142</th>\n",
       "      <td>ALBK</td>\n",
       "      <td>88.05</td>\n",
       "      <td>88.3</td>\n",
       "      <td>88.05</td>\n",
       "      <td>88.20</td>\n",
       "      <td>3557</td>\n",
       "      <td>3</td>\n",
       "      <td>7</td>\n",
       "      <td>2015</td>\n",
       "      <td>9</td>\n",
       "      <td>18</td>\n",
       "      <td>0</td>\n",
       "    </tr>\n",
       "    <tr>\n",
       "      <th>1003143</th>\n",
       "      <td>ALBK</td>\n",
       "      <td>88.20</td>\n",
       "      <td>88.4</td>\n",
       "      <td>88.20</td>\n",
       "      <td>88.25</td>\n",
       "      <td>8932</td>\n",
       "      <td>3</td>\n",
       "      <td>7</td>\n",
       "      <td>2015</td>\n",
       "      <td>9</td>\n",
       "      <td>19</td>\n",
       "      <td>0</td>\n",
       "    </tr>\n",
       "    <tr>\n",
       "      <th>1003144</th>\n",
       "      <td>ALBK</td>\n",
       "      <td>88.25</td>\n",
       "      <td>88.3</td>\n",
       "      <td>88.10</td>\n",
       "      <td>88.25</td>\n",
       "      <td>13613</td>\n",
       "      <td>3</td>\n",
       "      <td>7</td>\n",
       "      <td>2015</td>\n",
       "      <td>9</td>\n",
       "      <td>20</td>\n",
       "      <td>0</td>\n",
       "    </tr>\n",
       "  </tbody>\n",
       "</table>\n",
       "</div>"
      ],
      "text/plain": [
       "           id   open  high    low  close volume  Day  Month  Year  hour  min  \\\n",
       "1003140  ALBK  88.00  88.3  87.65  88.20   7897    3      7  2015     9   16   \n",
       "1003141  ALBK  88.20  88.2  88.00  88.10   6091    3      7  2015     9   17   \n",
       "1003142  ALBK  88.05  88.3  88.05  88.20   3557    3      7  2015     9   18   \n",
       "1003143  ALBK  88.20  88.4  88.20  88.25   8932    3      7  2015     9   19   \n",
       "1003144  ALBK  88.25  88.3  88.10  88.25  13613    3      7  2015     9   20   \n",
       "\n",
       "         sec  \n",
       "1003140    0  \n",
       "1003141    0  \n",
       "1003142    0  \n",
       "1003143    0  \n",
       "1003144    0  "
      ]
     },
     "execution_count": 77,
     "metadata": {},
     "output_type": "execute_result"
    }
   ],
   "source": [
    "ALBK.head()"
   ]
  },
  {
   "cell_type": "code",
   "execution_count": 82,
   "metadata": {},
   "outputs": [],
   "source": [
    "pd.options.mode.chained_assignment = 'warn'"
   ]
  },
  {
   "cell_type": "code",
   "execution_count": null,
   "metadata": {},
   "outputs": [],
   "source": []
  }
 ],
 "metadata": {
  "kernelspec": {
   "display_name": "Python 3",
   "language": "python",
   "name": "python3"
  },
  "language_info": {
   "codemirror_mode": {
    "name": "ipython",
    "version": 3
   },
   "file_extension": ".py",
   "mimetype": "text/x-python",
   "name": "python",
   "nbconvert_exporter": "python",
   "pygments_lexer": "ipython3",
   "version": "3.7.3"
  }
 },
 "nbformat": 4,
 "nbformat_minor": 4
}
