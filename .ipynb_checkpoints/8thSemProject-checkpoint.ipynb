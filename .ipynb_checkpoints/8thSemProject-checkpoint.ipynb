{
 "cells": [
  {
   "cell_type": "code",
   "execution_count": 2,
   "metadata": {},
   "outputs": [],
   "source": [
    "# %load (\"bank_1min.RData\")\n",
    "#bank_1min.RData"
   ]
  },
  {
   "cell_type": "code",
   "execution_count": 3,
   "metadata": {},
   "outputs": [
    {
     "name": "stdout",
     "output_type": "stream",
     "text": [
      "Collecting pyreadr\n",
      "  Downloading https://files.pythonhosted.org/packages/e1/c0/649afdcad64f3a10057036b2041cfdae1a090555d4a033c00b7b46dba3af/pyreadr-0.2.3-cp37-none-win_amd64.whl (873kB)\n",
      "Requirement already satisfied: pandas in c:\\programdata\\anaconda3\\lib\\site-packages (from pyreadr) (0.24.2)\n",
      "Requirement already satisfied: numpy>=1.12.0 in c:\\programdata\\anaconda3\\lib\\site-packages (from pandas->pyreadr) (1.16.4)\n",
      "Requirement already satisfied: pytz>=2011k in c:\\programdata\\anaconda3\\lib\\site-packages (from pandas->pyreadr) (2019.1)\n",
      "Requirement already satisfied: python-dateutil>=2.5.0 in c:\\programdata\\anaconda3\\lib\\site-packages (from pandas->pyreadr) (2.8.0)\n",
      "Requirement already satisfied: six>=1.5 in c:\\programdata\\anaconda3\\lib\\site-packages (from python-dateutil>=2.5.0->pandas->pyreadr) (1.12.0)\n",
      "Installing collected packages: pyreadr\n",
      "Successfully installed pyreadr-0.2.3\n",
      "Note: you may need to restart the kernel to use updated packages.\n"
     ]
    }
   ],
   "source": [
    "pip install pyreadr"
   ]
  },
  {
   "cell_type": "code",
   "execution_count": null,
   "metadata": {},
   "outputs": [],
   "source": [
    "import pyreadr\n",
    "\n",
    "result = pyreadr.read_r('bank_1min.RData')\n",
    "\n",
    "df = result['bank_1min']\n",
    "    "
   ]
  },
  {
   "cell_type": "code",
   "execution_count": null,
   "metadata": {},
   "outputs": [],
   "source": [
    "\n",
    "print(type(df))"
   ]
  },
  {
   "cell_type": "code",
   "execution_count": null,
   "metadata": {},
   "outputs": [],
   "source": [
    "import pandas as pd\n",
    "df.to_csv('bank1min')"
   ]
  },
  {
   "cell_type": "code",
   "execution_count": null,
   "metadata": {},
   "outputs": [],
   "source": [
    "data = pd.read_csv('bank1min')"
   ]
  },
  {
   "cell_type": "code",
   "execution_count": null,
   "metadata": {},
   "outputs": [],
   "source": [
    "data"
   ]
  },
  {
   "cell_type": "code",
   "execution_count": null,
   "metadata": {},
   "outputs": [],
   "source": [
    "time9 = df[df['time']=='09:16']\n",
    "time10 = df[df['time']=='10:00']\n",
    "time11 = df[df['time']=='11:00']\n",
    "time12 = df[df['time']=='12:00']\n",
    "time13= df[df['time']=='13:00']\n",
    "time14 = df[df['time']=='14:00']\n",
    "time15 = df[df['time']=='15:00']\n",
    "time1530 = df[df['time']=='15:30']\n"
   ]
  },
  {
   "cell_type": "code",
   "execution_count": null,
   "metadata": {},
   "outputs": [],
   "source": [
    "time9=time9.append(time10)\n",
    "time9=time9.append(time11)\n",
    "time9=time9.append(time12)\n",
    "time9=time9.append(time13)\n",
    "time9=time9.append(time14)\n",
    "time9=time9.append(time15)\n",
    "time9=time9.append(time1530)"
   ]
  },
  {
   "cell_type": "code",
   "execution_count": null,
   "metadata": {},
   "outputs": [],
   "source": [
    "bank1hour = time9.sort_index()"
   ]
  },
  {
   "cell_type": "code",
   "execution_count": null,
   "metadata": {},
   "outputs": [],
   "source": [
    "bank1hour.to_csv('bank1hour.csv')"
   ]
  },
  {
   "cell_type": "code",
   "execution_count": null,
   "metadata": {},
   "outputs": [],
   "source": [
    "bank1hour.head()"
   ]
  },
  {
   "cell_type": "code",
   "execution_count": null,
   "metadata": {},
   "outputs": [],
   "source": [
    "bank1hour.tail()"
   ]
  },
  {
   "cell_type": "code",
   "execution_count": null,
   "metadata": {},
   "outputs": [],
   "source": [
    "result = pyreadr.read_r('data/companyList.RData')\n",
    "\n",
    "#clist = result['company_list']\n",
    "type(result)"
   ]
  },
  {
   "cell_type": "code",
   "execution_count": null,
   "metadata": {},
   "outputs": [],
   "source": [
    "cmp_list = result['companyList']\n",
    "cmp_list.head(20)"
   ]
  },
  {
   "cell_type": "code",
   "execution_count": null,
   "metadata": {},
   "outputs": [],
   "source": [
    "file = pyreadr.read_r('data/nse_AA.RData')\n",
    "nseAA = file['nse_AA']\n",
    "nseAA.head()"
   ]
  },
  {
   "cell_type": "code",
   "execution_count": null,
   "metadata": {},
   "outputs": [],
   "source": [
    "ABB = nseAA.loc[nseAA['id']=='ABB']\n",
    "ABB.head()"
   ]
  },
  {
   "cell_type": "code",
   "execution_count": null,
   "metadata": {},
   "outputs": [],
   "source": [
    "ALBK = nseAA.loc[nseAA['id']=='ALBK']\n",
    "ALBK.head()"
   ]
  },
  {
   "cell_type": "markdown",
   "metadata": {},
   "source": [
    "The follwing steps are followed for 'ABB' symbol\n",
    "1. Converting 'date' col to YYYY-MM-DD as n 'NewDate'\n",
    "2. Dropping 'date'\n",
    "3. Splitting 'NewDate' into 'Day','Month','Year'\n",
    "4. Dropping 'NewDate'\n",
    "5. Splitting 'time' into 'hours','min',seconds'\n",
    "6. Dropping 'time'"
   ]
  },
  {
   "cell_type": "code",
   "execution_count": null,
   "metadata": {},
   "outputs": [],
   "source": [
    "ABB.info()"
   ]
  },
  {
   "cell_type": "code",
   "execution_count": null,
   "metadata": {},
   "outputs": [],
   "source": [
    "ABB['NewDate'] =  pd.to_datetime(ABB['date'].astype(str),format='%Y%m%d')"
   ]
  },
  {
   "cell_type": "code",
   "execution_count": null,
   "metadata": {},
   "outputs": [],
   "source": [
    "ABB= ABB.drop('date',axis=1)"
   ]
  },
  {
   "cell_type": "code",
   "execution_count": null,
   "metadata": {},
   "outputs": [],
   "source": [
    "ABB.head()"
   ]
  },
  {
   "cell_type": "code",
   "execution_count": null,
   "metadata": {},
   "outputs": [],
   "source": [
    "ABB['Day'] = pd.to_datetime(ABB['NewDate']).dt.day"
   ]
  },
  {
   "cell_type": "code",
   "execution_count": null,
   "metadata": {},
   "outputs": [],
   "source": [
    "ABB['Month'] = pd.to_datetime(ABB['NewDate']).dt.month"
   ]
  },
  {
   "cell_type": "code",
   "execution_count": null,
   "metadata": {},
   "outputs": [],
   "source": [
    "ABB['Year'] = pd.to_datetime(ABB['NewDate']).dt.year"
   ]
  },
  {
   "cell_type": "code",
   "execution_count": null,
   "metadata": {},
   "outputs": [],
   "source": [
    "ABB = ABB.drop('NewDate',axis=1)"
   ]
  },
  {
   "cell_type": "code",
   "execution_count": null,
   "metadata": {},
   "outputs": [],
   "source": [
    "ABB[['hour','min','sec']] = ABB['time'].astype(str).str.split(':', expand=True).astype(int)"
   ]
  },
  {
   "cell_type": "code",
   "execution_count": null,
   "metadata": {},
   "outputs": [],
   "source": [
    "ABB.head()"
   ]
  },
  {
   "cell_type": "code",
   "execution_count": null,
   "metadata": {},
   "outputs": [],
   "source": [
    "ABB =ABB.drop('time',axis=1)"
   ]
  },
  {
   "cell_type": "code",
   "execution_count": null,
   "metadata": {},
   "outputs": [],
   "source": [
    "ABB.head()"
   ]
  },
  {
   "cell_type": "code",
   "execution_count": null,
   "metadata": {},
   "outputs": [],
   "source": [
    "ALBK.info()"
   ]
  },
  {
   "cell_type": "markdown",
   "metadata": {},
   "source": [
    "Following above mentioned steps in one cell for 'ALBK' symbol"
   ]
  },
  {
   "cell_type": "code",
   "execution_count": null,
   "metadata": {},
   "outputs": [],
   "source": [
    "ALBK['NewDate'] =  pd.to_datetime(ALBK['date'].astype(str),format='%Y%m%d')\n",
    "ALBK= ALBK.drop('date',axis=1)\n",
    "ALBK['Day'] = pd.to_datetime(ALBK['NewDate']).dt.day\n",
    "ALBK['Month'] = pd.to_datetime(ALBK['NewDate']).dt.month\n",
    "ALBK['Year'] = pd.to_datetime(ALBK['NewDate']).dt.year\n",
    "ALBK = ALBK.drop('NewDate',axis=1)\n",
    "ALBK[['hour','min','sec']] = ALBK['time'].astype(str).str.split(':', expand=True).astype(int)\n",
    "ALBK =ALBK.drop('time',axis=1)"
   ]
  },
  {
   "cell_type": "code",
   "execution_count": null,
   "metadata": {},
   "outputs": [],
   "source": [
    "ALBK.head()"
   ]
  },
  {
   "cell_type": "code",
   "execution_count": null,
   "metadata": {},
   "outputs": [],
   "source": []
  },
  {
   "cell_type": "code",
   "execution_count": null,
   "metadata": {},
   "outputs": [],
   "source": []
  }
 ],
 "metadata": {
  "kernelspec": {
   "display_name": "Python 3",
   "language": "python",
   "name": "python3"
  },
  "language_info": {
   "codemirror_mode": {
    "name": "ipython",
    "version": 3
   },
   "file_extension": ".py",
   "mimetype": "text/x-python",
   "name": "python",
   "nbconvert_exporter": "python",
   "pygments_lexer": "ipython3",
   "version": "3.7.3"
  }
 },
 "nbformat": 4,
 "nbformat_minor": 4
}
